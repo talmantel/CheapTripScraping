{
 "cells": [
  {
   "cell_type": "code",
   "execution_count": 1,
   "id": "a2fb0183",
   "metadata": {},
   "outputs": [
    {
     "name": "stderr",
     "output_type": "stream",
     "text": [
      "C:\\Anaconda3\\lib\\site-packages\\numpy\\_distributor_init.py:32: UserWarning: loaded more than 1 DLL from .libs:\n",
      "C:\\Anaconda3\\lib\\site-packages\\numpy\\.libs\\libopenblas.PYQHXLVVQ7VESDPUVUADXEVJOBGHJPAY.gfortran-win_amd64.dll\n",
      "C:\\Anaconda3\\lib\\site-packages\\numpy\\.libs\\libopenblas.WCDJNK7YVMPZQ2ME2ZZHJJRJ3JIKNDB7.gfortran-win_amd64.dll\n",
      "  stacklevel=1)\n"
     ]
    }
   ],
   "source": [
    "import pandas as pd\n",
    "from itertools import permutations\n",
    "import requests\n",
    "from bs4 import BeautifulSoup\n",
    "import json\n",
    "import geopy.distance\n",
    "from shapely.geometry import Point\n",
    "import geopandas as gpd\n",
    "from geopandas import GeoDataFrame\n",
    "import fiona\n",
    "from currency_converter import CurrencyConverter\n",
    "from bokeh.plotting import figure, save, show\n",
    "from bokeh.models import ColumnDataSource, HoverTool, LogColorMapper\n",
    "from pathlib import Path"
   ]
  },
  {
   "cell_type": "code",
   "execution_count": 2,
   "id": "867150a2",
   "metadata": {},
   "outputs": [],
   "source": [
    "fiona.drvsupport.supported_drivers['TopoJSON'] = 'rw'"
   ]
  },
  {
   "cell_type": "code",
   "execution_count": 3,
   "id": "af21be92",
   "metadata": {},
   "outputs": [],
   "source": [
    "converter = CurrencyConverter()\n",
    "DESIRED_CUR = 'USD'"
   ]
  },
  {
   "cell_type": "code",
   "execution_count": 4,
   "id": "d2e54dcd",
   "metadata": {},
   "outputs": [],
   "source": [
    "base_url = 'https://www.rome2rio.com/map/'\n",
    "cities_file = \"../files/csv/Locations with airports.csv\"\n",
    "output_path = \"../output/All Dataset/\""
   ]
  },
  {
   "cell_type": "code",
   "execution_count": 5,
   "id": "24428bef",
   "metadata": {},
   "outputs": [
    {
     "data": {
      "text/html": [
       "<div>\n",
       "<style scoped>\n",
       "    .dataframe tbody tr th:only-of-type {\n",
       "        vertical-align: middle;\n",
       "    }\n",
       "\n",
       "    .dataframe tbody tr th {\n",
       "        vertical-align: top;\n",
       "    }\n",
       "\n",
       "    .dataframe thead th {\n",
       "        text-align: right;\n",
       "    }\n",
       "</style>\n",
       "<table border=\"1\" class=\"dataframe\">\n",
       "  <thead>\n",
       "    <tr style=\"text-align: right;\">\n",
       "      <th></th>\n",
       "      <th>id</th>\n",
       "      <th>city</th>\n",
       "      <th>airplanCode1</th>\n",
       "      <th>airplanCode2</th>\n",
       "      <th>id2</th>\n",
       "      <th>alt</th>\n",
       "      <th>lng</th>\n",
       "      <th>stateCode</th>\n",
       "      <th>country</th>\n",
       "    </tr>\n",
       "  </thead>\n",
       "  <tbody>\n",
       "    <tr>\n",
       "      <th>0</th>\n",
       "      <td>100</td>\n",
       "      <td>Antwerp</td>\n",
       "      <td>anr</td>\n",
       "      <td>NaN</td>\n",
       "      <td>17</td>\n",
       "      <td>51.2211</td>\n",
       "      <td>4.3997</td>\n",
       "      <td>NaN</td>\n",
       "      <td>Belgium</td>\n",
       "    </tr>\n",
       "    <tr>\n",
       "      <th>1</th>\n",
       "      <td>101</td>\n",
       "      <td>Aberdeen</td>\n",
       "      <td>abz</td>\n",
       "      <td>NaN</td>\n",
       "      <td>188</td>\n",
       "      <td>57.1500</td>\n",
       "      <td>-2.1100</td>\n",
       "      <td>NaN</td>\n",
       "      <td>United Kingdom</td>\n",
       "    </tr>\n",
       "    <tr>\n",
       "      <th>2</th>\n",
       "      <td>102</td>\n",
       "      <td>Augsburg</td>\n",
       "      <td>agb</td>\n",
       "      <td>NaN</td>\n",
       "      <td>65</td>\n",
       "      <td>48.3717</td>\n",
       "      <td>10.8983</td>\n",
       "      <td>NaN</td>\n",
       "      <td>Germany</td>\n",
       "    </tr>\n",
       "    <tr>\n",
       "      <th>3</th>\n",
       "      <td>103</td>\n",
       "      <td>Alexandroupolis</td>\n",
       "      <td>axd</td>\n",
       "      <td>NaN</td>\n",
       "      <td>67</td>\n",
       "      <td>40.8500</td>\n",
       "      <td>25.8667</td>\n",
       "      <td>NaN</td>\n",
       "      <td>Greece</td>\n",
       "    </tr>\n",
       "    <tr>\n",
       "      <th>4</th>\n",
       "      <td>104</td>\n",
       "      <td>Athens</td>\n",
       "      <td>ath</td>\n",
       "      <td>NaN</td>\n",
       "      <td>67</td>\n",
       "      <td>37.9794</td>\n",
       "      <td>23.7161</td>\n",
       "      <td>NaN</td>\n",
       "      <td>Greece</td>\n",
       "    </tr>\n",
       "  </tbody>\n",
       "</table>\n",
       "</div>"
      ],
      "text/plain": [
       "    id             city airplanCode1 airplanCode2  id2      alt      lng  \\\n",
       "0  100          Antwerp          anr          NaN   17  51.2211   4.3997   \n",
       "1  101         Aberdeen          abz          NaN  188  57.1500  -2.1100   \n",
       "2  102         Augsburg          agb          NaN   65  48.3717  10.8983   \n",
       "3  103  Alexandroupolis          axd          NaN   67  40.8500  25.8667   \n",
       "4  104           Athens          ath          NaN   67  37.9794  23.7161   \n",
       "\n",
       "   stateCode         country  \n",
       "0        NaN         Belgium  \n",
       "1        NaN  United Kingdom  \n",
       "2        NaN         Germany  \n",
       "3        NaN          Greece  \n",
       "4        NaN          Greece  "
      ]
     },
     "execution_count": 5,
     "metadata": {},
     "output_type": "execute_result"
    }
   ],
   "source": [
    "def get_url(url, english=True):\n",
    "    if english:\n",
    "        r = requests.get(url, headers={'Accept-Language': 'en-US,en;q=0.5'})\n",
    "    else:\n",
    "        r = requests.get(url)\n",
    "\n",
    "    if r.status_code != 200:\n",
    "        print(\"Invalid page!\")\n",
    "        return []\n",
    "    else:\n",
    "        data = {}\n",
    "        soup = BeautifulSoup(r.content, 'html.parser')\n",
    "        # data[\"title\"] = soup.find('h1').text\n",
    "        dis = soup.find('meta', {'id': 'deeplinkTrip'})\n",
    "        parsed = json.loads(dis[\"content\"])[2][1]\n",
    "\n",
    "        # print(json.dumps(parsed, indent=4, sort_keys=True))\n",
    "        return parsed\n",
    "\n",
    "\n",
    "class Cities:\n",
    "    def __init__(self, filename):\n",
    "        self.path = cities_file\n",
    "        self.base_url = 'https://www.rome2rio.com/map/'\n",
    "        try:\n",
    "            self.df = pd.read_csv(filename)\n",
    "        except FileNotFoundError:\n",
    "            print(\"File Not Found\")\n",
    "        self.routes = {}\n",
    "        self.pairs = []\n",
    "\n",
    "    def gen_combinations(self, n=2):\n",
    "        self.pairs = permutations(self.df['city'], n)\n",
    "        \n",
    "    def get_routes(self, city1, city2):\n",
    "        pass\n",
    "\n",
    "    def scrap_routes(self, city1, city2):\n",
    "        tmp_url = self.base_url + city1 + '/' + city2\n",
    "        self.routes[(city1, city2)] = get_url(tmp_url)\n",
    "\n",
    "\n",
    "c = Cities(cities_file)\n",
    "\n",
    "#c.scrap_routes(c.df.iloc[0]['city'], c.df.iloc[1]['city'])\n",
    "c.scrap_routes('Saint-Petersburg', 'London')\n",
    "c.df.head()"
   ]
  },
  {
   "cell_type": "markdown",
   "id": "1fc9ddf9",
   "metadata": {},
   "source": [
    "### Cities class\n",
    "\n",
    "to scrap every combination in cities_files we need to use combinations and scrap for every possible one"
   ]
  },
  {
   "cell_type": "markdown",
   "id": "d3315cfc",
   "metadata": {},
   "source": [
    "## If car, walk, subway, carferry\n",
    "    Trip: First index in Cities.routes \n",
    "\n",
    "    Name and way of trip: [trip][4]\n",
    "\n",
    "    Nodes of the trip:  [trip][8]\n",
    "\n",
    "    Begin_node: [trip][8][Node][6]\n",
    "\n",
    "    end_node: [trip][8][Node][7]\n",
    "\n",
    "    if walk: [trip][8][Node][0]\n",
    "\n",
    "    Type of vehicle: [trip][8][Node][1]\n",
    "\n",
    "    Distance: [trip][8][Node][5]\n",
    "\n",
    "    If subway:\n",
    "\n",
    "    Price (vehicle only): [trip][8][Node][14]\n",
    "\n",
    "    If train or bus:\n",
    "\n",
    "    Price (vehicle only): [trip][8][Node][13]\n",
    "\n",
    "    Stations route: [trip][8][Node][18]\n",
    "\n",
    "##\n",
    "### If flights:\n",
    "\n",
    "    Begin_node: [trip][8][Node][2]\n",
    "\n",
    "    end_node: [trip][8][Node][3]\n",
    "\n",
    "    Price (GBP): [trip][8][Node][11]\n",
    "\n",
    "##\n",
    "### If Hotel:\n",
    "\n",
    "    Type Hotel: [trip][8][Node][0] == 'hotel'\n",
    "\n",
    "    long and lat: [trip][8][Node][3]\n",
    "\n",
    "    Name and details: [trip][8][Node][1]\n"
   ]
  },
  {
   "cell_type": "code",
   "execution_count": 6,
   "id": "44305a07",
   "metadata": {},
   "outputs": [],
   "source": [
    "class Node:\n",
    "    def __init__(self, long, lat, name='', is_airport=False, code=[], stype='station'):\n",
    "        self.update(long, lat)\n",
    "        self.stype = stype\n",
    "        self.name = name\n",
    "        self.is_airport = is_airport\n",
    "        self.code = code\n",
    "        \n",
    "    def pairing(self, long, lat):\n",
    "        return 0.5 * (long + lat) * (long + lat + 1) + lat\n",
    "    \n",
    "    def __eq__(self, N):\n",
    "        if N.long == self.long and N.lat == self.lat:\n",
    "            return True\n",
    "        return False\n",
    "    \n",
    "    def dist(self, N):\n",
    "        return geopy.distance.geodesic((self.long, self.lat), \n",
    "                                       (N.long, N.lat)).km\n",
    "    \n",
    "    def update(self, long, lat):\n",
    "        self.id = self.pairing(long, lat)\n",
    "        self.long = long\n",
    "        self.lat = lat\n",
    "        \n",
    "    def describe(self):\n",
    "        print(\"Long and Lat: \", self.long, self.lat)\n",
    "        if self.is_airport:\n",
    "            print(\"Is an Airport with code : \", self.code)\n",
    "        else:\n",
    "            print(\"Type :\", self.stype)\n",
    "        print(\"Name :\", self.name)"
   ]
  },
  {
   "cell_type": "code",
   "execution_count": 7,
   "id": "77022edd",
   "metadata": {},
   "outputs": [],
   "source": [
    "class Graph:\n",
    "    def __init__(self):\n",
    "        self.nodes = []\n",
    "        self.nodes_hashed = {}\n",
    "        self.edges = {}  # add distance, price, name_src, name_dist, type and route. ID is the key\n",
    "        self.routes = []\n",
    "    def translate_trip(self, trip):\n",
    "        # trip here is an index of Cities.routes[key]\n",
    "        H = 10\n",
    "        for i in range(len(trip)):\n",
    "            nodes = []\n",
    "            distances = []\n",
    "            prices = []\n",
    "            types = []  # for edges\n",
    "            for j in range(len(trip[i][8])):\n",
    "                if 'walk' in trip[i][8][j][:2]:\n",
    "                    nodes.append(Node(trip[i][8][j][6][2],\n",
    "                                      trip[i][8][j][6][3], \n",
    "                                      name=trip[i][8][j][6][1],\n",
    "                                      stype=trip[i][8][j][6][0]))\n",
    "                    distances.append(trip[i][8][j][5])\n",
    "                    prices.append(0)\n",
    "                    types.append('walk')\n",
    "                    \n",
    "                elif 'subway' in trip[i][8][j][:2]\\\n",
    "                    or 'Bus' in trip[i][8][j][:2]\\\n",
    "                    or 'Car' in trip[i][8][j][:2]\\\n",
    "                    or 'carferry' in trip[i][8][j][:2]:\n",
    "                    nodes.append(Node(trip[i][8][j][6][2],\n",
    "                                      trip[i][8][j][6][3], \n",
    "                                      name=trip[i][8][j][6][1],\n",
    "                                      stype=trip[i][8][j][6][0]))\n",
    "                    distances.append(trip[i][8][j][5])\n",
    "                    types.append(trip[i][8][j][1])\n",
    "                    prices.append(converter.convert(trip[i][8][j][13][0][2],\n",
    "                                                    trip[i][8][j][13][0][1],\n",
    "                                                    DESIRED_CUR))\n",
    "                            \n",
    "                elif trip[i][8][j][0] == 'flight':\n",
    "                    nodes.append(Node(trip[i][8][j][2][3],\n",
    "                                      trip[i][8][j][2][4], \n",
    "                                      name=trip[i][8][j][2][1], \n",
    "                                      is_airport=True,\n",
    "                                      code=[trip[i][8][j][2][0]],\n",
    "                                      stype='flight'))\n",
    "                    distances.append(-1)\n",
    "                    types.append('flight')\n",
    "                    prices.append(converter.convert(trip[i][8][j][11][0][2],\n",
    "                                                    trip[i][8][j][11][0][1],\n",
    "                                                    DESIRED_CUR))\n",
    "            \n",
    "            if len(nodes):\n",
    "                self.nodes.append(nodes[0])\n",
    "                self.nodes_hashed[nodes[0].id] = nodes[0]\n",
    "                tmp_route = [nodes[0]]\n",
    "                for n in range(1, len(nodes)):\n",
    "                    nodes.append(nodes[n])\n",
    "                    if distances[n] == -1:\n",
    "                        tmp = nodes[n].dist(nodes[n-1])\n",
    "                    else:\n",
    "                        tmp = distances[n]\n",
    "                    self.edges[(nodes[n-1].id, nodes[n].id)] =\\\n",
    "                            (tmp, prices[n-1], nodes[n-1].name, nodes[n].name, types[n-1], i)\n",
    "                    self.nodes.append(nodes[n])\n",
    "                    self.nodes_hashed[nodes[n].id] = nodes[n]\n",
    "                    tmp_route.append(nodes[n].id)\n",
    "                    \n",
    "            \n",
    "    def visalize(self):\n",
    "        points = []\n",
    "        for n in range(len(self.nodes)):\n",
    "            points.append(Point(self.nodes[n].lon, self.nodes[n].lat))\n",
    "        return [Point(xy) for xy in zip(df['Longitude'], df['Latitude'])]\n",
    "        "
   ]
  },
  {
   "cell_type": "code",
   "execution_count": 8,
   "id": "ea56fd88",
   "metadata": {},
   "outputs": [
    {
     "data": {
      "text/plain": [
       "[['node', 'Saint Petersburg', 59.9385, 30.31463, 'RU', 'Europe/Moscow', 5],\n",
       " ['station', 'Moskovskaya', 59.85219, 30.32221, 'RU', 'Europe/Moscow'],\n",
       " ['station',\n",
       "  'Ст. Метро \"Московская\"',\n",
       "  59.85347,\n",
       "  30.32371,\n",
       "  'RU',\n",
       "  'Europe/Moscow'],\n",
       " ['station', 'Аэропорт \"Пулково 1\"', 59.79988, 30.27345, 'RU'],\n",
       " ['airport', 'Pulkovo (LED)', 59.79815, 30.26839],\n",
       " ['airport', 'London Heathrow (LHR)', 51.47034, -0.453424],\n",
       " ['station',\n",
       "  'London Heathrow Airport T2 & 3 Train Station',\n",
       "  51.47211,\n",
       "  -0.454587,\n",
       "  'GB',\n",
       "  'Europe/London'],\n",
       " ['node', 'London Paddington', 51.51574, -0.17554]]"
      ]
     },
     "execution_count": 8,
     "metadata": {},
     "output_type": "execute_result"
    }
   ],
   "source": [
    "c.routes[('Saint-Petersburg','London')][0][10]"
   ]
  },
  {
   "cell_type": "code",
   "execution_count": 9,
   "id": "44e9ee1b",
   "metadata": {},
   "outputs": [],
   "source": [
    "g = Graph()"
   ]
  },
  {
   "cell_type": "code",
   "execution_count": 10,
   "id": "dd6d3fba",
   "metadata": {},
   "outputs": [],
   "source": [
    "g.translate_trip(c.routes[('Saint-Petersburg','London')])"
   ]
  },
  {
   "cell_type": "code",
   "execution_count": 11,
   "id": "deb7adc5",
   "metadata": {},
   "outputs": [
    {
     "name": "stdout",
     "output_type": "stream",
     "text": [
      "Long and Lat:  59.79988 30.27345\n",
      "Type : station\n",
      "Name : Аэропорт \"Пулково 1\"\n"
     ]
    }
   ],
   "source": [
    "g.nodes_hashed[4131.912503644449].describe()"
   ]
  },
  {
   "cell_type": "code",
   "execution_count": 12,
   "id": "4342edcd",
   "metadata": {},
   "outputs": [
    {
     "name": "stdout",
     "output_type": "stream",
     "text": [
      "Long and Lat:  59.92709 30.32043\n",
      "Type : station\n",
      "Name : Sennaya Ploshchad\n"
     ]
    }
   ],
   "source": [
    "g.nodes_hashed[list(g.edges.keys())[0][0]].describe()"
   ]
  },
  {
   "cell_type": "markdown",
   "id": "025e3bbf",
   "metadata": {},
   "source": [
    "# Scrapping Locations with Airports"
   ]
  },
  {
   "cell_type": "code",
   "execution_count": null,
   "id": "78666b99",
   "metadata": {},
   "outputs": [],
   "source": [
    "# index of main_node is incremented manually with every run\n",
    "\n",
    "main_node = 2\n",
    "folder_path = output_path + c.df.city[main_node] + '/'\n",
    "\n",
    "Path(folder_path).mkdir(parents=True, exist_ok=True)\n",
    "for i, city in enumerate(c.df.city):\n",
    "    if i != main_node:\n",
    "        data = {'from':[], 'to':[], 'transportation_type':[], 'price':[], 'distance':[], 'route':[]}\n",
    "        c.scrap_routes(c.df.city[main_node], city)\n",
    "        g.translate_trip(c.routes[('Saint-Petersburg','London')])\n",
    "        for n1, n2 in g.edges.keys():\n",
    "            data['from'].append(g.edges[(n1, n2)][2])\n",
    "            data['to'].append(g.edges[(n1, n2)][3])\n",
    "            data['transportation_type'].append(g.edges[(n1, n2)][4])\n",
    "            data['price'].append(g.edges[(n1, n2)][1])\n",
    "            data['distance'].append(g.edges[(n1, n2)][0])\n",
    "            data['route'].append(g.edges[(n1, n2)][-1])\n",
    "            \n",
    "        tmp_df = pd.DataFrame(data)\n",
    "        tmp_df.to_csv(folder_path + city + '.csv')\n",
    "            "
   ]
  },
  {
   "cell_type": "markdown",
   "id": "30858769",
   "metadata": {},
   "source": [
    "# Graph Visualization"
   ]
  },
  {
   "cell_type": "code",
   "execution_count": 16,
   "id": "0bc2c59d",
   "metadata": {},
   "outputs": [],
   "source": [
    "gdf = gpd.GeoDataFrame(\n",
    "    pd.DataFrame(), geometry=gpd.points_from_xy([x.lat for x in g.nodes], \n",
    "                                                      [y.long for y in g.nodes]))\n",
    "gdf.crs = {'init' :'epsg:4326'}"
   ]
  },
  {
   "cell_type": "code",
   "execution_count": 23,
   "id": "f45ad179",
   "metadata": {},
   "outputs": [
    {
     "data": {
      "text/html": [
       "<div>\n",
       "<style scoped>\n",
       "    .dataframe tbody tr th:only-of-type {\n",
       "        vertical-align: middle;\n",
       "    }\n",
       "\n",
       "    .dataframe tbody tr th {\n",
       "        vertical-align: top;\n",
       "    }\n",
       "\n",
       "    .dataframe thead th {\n",
       "        text-align: right;\n",
       "    }\n",
       "</style>\n",
       "<table border=\"1\" class=\"dataframe\">\n",
       "  <thead>\n",
       "    <tr style=\"text-align: right;\">\n",
       "      <th></th>\n",
       "      <th>geometry</th>\n",
       "    </tr>\n",
       "  </thead>\n",
       "  <tbody>\n",
       "    <tr>\n",
       "      <th>0</th>\n",
       "      <td>POINT (30.32043 59.92709)</td>\n",
       "    </tr>\n",
       "    <tr>\n",
       "      <th>1</th>\n",
       "      <td>POINT (30.32221 59.85219)</td>\n",
       "    </tr>\n",
       "    <tr>\n",
       "      <th>2</th>\n",
       "      <td>POINT (30.27345 59.79988)</td>\n",
       "    </tr>\n",
       "    <tr>\n",
       "      <th>3</th>\n",
       "      <td>POINT (30.26839 59.79815)</td>\n",
       "    </tr>\n",
       "    <tr>\n",
       "      <th>4</th>\n",
       "      <td>POINT (-0.45342 51.47034)</td>\n",
       "    </tr>\n",
       "    <tr>\n",
       "      <th>...</th>\n",
       "      <td>...</td>\n",
       "    </tr>\n",
       "    <tr>\n",
       "      <th>10928</th>\n",
       "      <td>POINT (10.53902 52.25345)</td>\n",
       "    </tr>\n",
       "    <tr>\n",
       "      <th>10929</th>\n",
       "      <td>POINT (4.33569 50.83538)</td>\n",
       "    </tr>\n",
       "    <tr>\n",
       "      <th>10930</th>\n",
       "      <td>POINT (20.49857 54.69337)</td>\n",
       "    </tr>\n",
       "    <tr>\n",
       "      <th>10931</th>\n",
       "      <td>POINT (18.64265 54.35638)</td>\n",
       "    </tr>\n",
       "    <tr>\n",
       "      <th>10932</th>\n",
       "      <td>POINT (2.18980 51.02017)</td>\n",
       "    </tr>\n",
       "  </tbody>\n",
       "</table>\n",
       "<p>10933 rows × 1 columns</p>\n",
       "</div>"
      ],
      "text/plain": [
       "                        geometry\n",
       "0      POINT (30.32043 59.92709)\n",
       "1      POINT (30.32221 59.85219)\n",
       "2      POINT (30.27345 59.79988)\n",
       "3      POINT (30.26839 59.79815)\n",
       "4      POINT (-0.45342 51.47034)\n",
       "...                          ...\n",
       "10928  POINT (10.53902 52.25345)\n",
       "10929   POINT (4.33569 50.83538)\n",
       "10930  POINT (20.49857 54.69337)\n",
       "10931  POINT (18.64265 54.35638)\n",
       "10932   POINT (2.18980 51.02017)\n",
       "\n",
       "[10933 rows x 1 columns]"
      ]
     },
     "execution_count": 23,
     "metadata": {},
     "output_type": "execute_result"
    }
   ],
   "source": [
    "gdf"
   ]
  },
  {
   "cell_type": "code",
   "execution_count": 24,
   "id": "a821b12a",
   "metadata": {},
   "outputs": [],
   "source": [
    "world = gpd.read_file(gpd.datasets.get_path('naturalearth_lowres'))\n",
    "europe = world[world.continent == \"Europe\"]"
   ]
  },
  {
   "cell_type": "code",
   "execution_count": 37,
   "id": "6225745c",
   "metadata": {},
   "outputs": [],
   "source": [
    "exclude = ['Russia']\n",
    "europe2 = europe[~europe.name.isin(exclude)]"
   ]
  },
  {
   "cell_type": "code",
   "execution_count": 26,
   "id": "e4772426",
   "metadata": {},
   "outputs": [
    {
     "data": {
      "text/plain": [
       "<matplotlib.axes._subplots.AxesSubplot at 0x20b25b1c788>"
      ]
     },
     "execution_count": 26,
     "metadata": {},
     "output_type": "execute_result"
    },
    {
     "data": {
      "image/png": "[encoded data removed]",
      "text/plain": [
       "<Figure size 1440x1440 with 1 Axes>"
      ]
     },
     "metadata": {
      "needs_background": "light"
     },
     "output_type": "display_data"
    }
   ],
   "source": [
    "gdf.plot(ax=europe2.plot(figsize=(20, 20)), marker='o', color='red', markersize=15)"
   ]
  },
  {
   "cell_type": "code",
   "execution_count": null,
   "id": "3e6e9d80",
   "metadata": {},
   "outputs": [],
   "source": []
  }
 ],
 "metadata": {
  "kernelspec": {
   "display_name": ".ctenv",
   "language": "python",
   "name": "python3"
  },
  "language_info": {
   "name": "python",
   "version": "3.10.6 (main, Nov  2 2022, 18:53:38) [GCC 11.3.0]"
  },
  "vscode": {
   "interpreter": {
    "hash": "f7643fb6a4bd21ef3a7aa79155d00d8e407207f3a84287bcb7e146fa4cece91a"
   }
  }
 },
 "nbformat": 4,
 "nbformat_minor": 5
}
