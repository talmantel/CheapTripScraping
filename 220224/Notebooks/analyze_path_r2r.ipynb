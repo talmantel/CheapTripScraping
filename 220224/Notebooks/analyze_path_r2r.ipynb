{
 "cells": [
  {
   "cell_type": "code",
   "execution_count": 83,
   "metadata": {},
   "outputs": [],
   "source": [
    "import requests\n",
    "from bs4 import BeautifulSoup\n",
    "import json\n"
   ]
  },
  {
   "cell_type": "code",
   "execution_count": 84,
   "metadata": {},
   "outputs": [],
   "source": [
    "from currency_converter import CurrencyConverter, SINGLE_DAY_ECB_URL\n",
    "cc = CurrencyConverter(SINGLE_DAY_ECB_URL)"
   ]
  },
  {
   "cell_type": "code",
   "execution_count": 85,
   "metadata": {},
   "outputs": [
    {
     "data": {
      "text/plain": [
       "60.77890504464912"
      ]
     },
     "execution_count": 85,
     "metadata": {},
     "output_type": "execute_result"
    }
   ],
   "source": [
    "cc.convert(650, 'NOK')"
   ]
  },
  {
   "cell_type": "code",
   "execution_count": 86,
   "metadata": {},
   "outputs": [],
   "source": [
    "from_to = \"Prague/Karlovy Vary\""
   ]
  },
  {
   "cell_type": "code",
   "execution_count": 87,
   "metadata": {},
   "outputs": [
    {
     "name": "stdout",
     "output_type": "stream",
     "text": [
      "https://www.rome2rio.com/map/Prague/Karlovy Vary\n"
     ]
    }
   ],
   "source": [
    "base_url = \"https://www.rome2rio.com/map/\"\n",
    "    \n",
    "tmp_url = base_url + from_to\n",
    "    \n",
    "print(tmp_url)\n",
    "    "
   ]
  },
  {
   "cell_type": "code",
   "execution_count": 88,
   "metadata": {},
   "outputs": [
    {
     "name": "stdout",
     "output_type": "stream",
     "text": [
      "200\n"
     ]
    }
   ],
   "source": [
    "r = requests.get(tmp_url)\n",
    "print(r.status_code)"
   ]
  },
  {
   "cell_type": "code",
   "execution_count": null,
   "metadata": {},
   "outputs": [],
   "source": [
    "soup = BeautifulSoup(r.content, \"html.parser\")\n",
    "print(soup.prettify())"
   ]
  },
  {
   "cell_type": "code",
   "execution_count": 90,
   "metadata": {},
   "outputs": [
    {
     "name": "stdout",
     "output_type": "stream",
     "text": [
      "Prague to Karlovy Vary - 3 ways to travel via train, bus, and car\n"
     ]
    }
   ],
   "source": [
    "# finds common info about the trip\n",
    "title = soup.find('meta', property=\"og:title\")\n",
    "print(title['content'])"
   ]
  },
  {
   "cell_type": "code",
   "execution_count": 91,
   "metadata": {},
   "outputs": [
    {
     "name": "stdout",
     "output_type": "stream",
     "text": [
      "The cheapest way to get from Prague to Karlovy Vary costs only 216 Kč, and the quickest way takes just 1½ hours. Find the travel option that best suits you.\n"
     ]
    }
   ],
   "source": [
    "# gets quickest and cheapest ways\n",
    "description = soup.find('meta', property=\"og:description\")\n",
    "print(description['content'])"
   ]
  },
  {
   "cell_type": "code",
   "execution_count": 92,
   "metadata": {},
   "outputs": [
    {
     "data": {
      "text/plain": [
       "'[[\"GeoCoderResultV1\",\"Prague\",\"Prague, Czech Republic\",50.08804,14.42076,\"Capital\",\"CZ\",\"Prague\",\"False\",2.5],[\"GeoCoderResultV1\",\"Karlovy Vary\",\"Karlovy Vary, Czech Republic\",50.23271,12.87117,\"City\",\"CZ\",\"Karlovy-Vary\",\"False\",2.5]]'"
      ]
     },
     "execution_count": 92,
     "metadata": {},
     "output_type": "execute_result"
    }
   ],
   "source": [
    "# finds nodes geolocation info\n",
    "nodes = soup.find('meta', id=\"deeplinkNodes\")\n",
    "nodes['content']"
   ]
  },
  {
   "cell_type": "code",
   "execution_count": 93,
   "metadata": {},
   "outputs": [],
   "source": [
    "# find trip`s pathes\n",
    "pathes = soup.find('meta', id=\"deeplinkTrip\")\n",
    "pathes = json.loads(pathes['content'])[2][1]"
   ]
  },
  {
   "cell_type": "code",
   "execution_count": 94,
   "metadata": {},
   "outputs": [
    {
     "name": "stdout",
     "output_type": "stream",
     "text": [
      "num_pathes = 3\n"
     ]
    }
   ],
   "source": [
    "# calculates number of pathes\n",
    "num_pathes = len([i for i in pathes])\n",
    "print(f'{num_pathes = }')"
   ]
  },
  {
   "cell_type": "code",
   "execution_count": null,
   "metadata": {},
   "outputs": [],
   "source": [
    "# get all pathes wirh numbers\n",
    "for i, item in enumerate(pathes, start=1):\n",
    "    print('path ', i, '\\n\\t', item, '\\n\\n')"
   ]
  },
  {
   "cell_type": "code",
   "execution_count": null,
   "metadata": {},
   "outputs": [],
   "source": [
    "# unpacking all routes from each path\n",
    "for path_id, path in enumerate(pathes, start=1):\n",
    "    for i, route in enumerate(path):\n",
    "        print(path_id, '\\n\\t', i, '\\t', route, '\\n')"
   ]
  },
  {
   "cell_type": "code",
   "execution_count": null,
   "metadata": {},
   "outputs": [],
   "source": [
    "# unpacking routes info from the section 8 (except last one [:-1], because it is 'hotel')\n",
    "for path_id, path in enumerate(pathes, start=1):\n",
    "    for i, route in enumerate(path[8][:-1]):\n",
    "        print(path_id, '\\n\\t', i, '\\t', route, '\\n')\n",
    "\n",
    "    "
   ]
  },
  {
   "cell_type": "code",
   "execution_count": 98,
   "metadata": {},
   "outputs": [
    {
     "name": "stdout",
     "output_type": "stream",
     "text": [
      "path # 0\n",
      "\n",
      "0 \t 0 \t 0 \t transit \n",
      "\n",
      "0 \t 0 \t 1 \t bus \n",
      "\n",
      "0 \t 0 \t 2 \t orange \n",
      "\n",
      "0 \t 0 \t 3 \t 5700 \n",
      "\n",
      "0 \t 0 \t 4 \t 2071.233 \n",
      "\n",
      "0 \t 0 \t 5 \t 124.1396 \n",
      "\n",
      "0 \t 0 \t 6 \t ['station', 'Prague Hradčanská', 50.09652, 14.40141, 'CZ', 'Europe/Prague'] \n",
      "\n",
      "0 \t 0 \t 7 \t ['station', 'Karlovy Vary - Tržnice', 50.23089, 12.87015, 'CZ', 'Europe/Prague'] \n",
      "\n",
      "0 \t 0 \t 8 \t  \n",
      "\n",
      "0 \t 0 \t 9 \t True \n",
      "\n",
      "0 \t 0 \t 10 \t [5700, 124.1396, ['station', 'Prague Hradčanská', 50.09652, 14.40141, 'CZ', 'Europe/Prague'], ['station', 'Karlovy Vary - Tržnice', 50.23089, 12.87015, 'CZ', 'Europe/Prague'], 'bus', ['Commuter', ' Bicycles', ' Wheelchair'], '854', 95, [['FlixBus', '//static.r2r.io/logos/Trains/96/_FLIXBUS_201901232028.png', 'http://www.flixbus.com/?pid=358#Q0ScomC358', 'flixbus.de', 5700, 124.1396, 66, '854', [['http://www.flixbus.com/?pid=358#Q0ScomC358', 'flixbus.co.uk', 'Website', 'Flixbus', '', '', '', '', '']], [], '+49 30 300 137 300', 'service@flixbus.com', 'FlixBus', [['//static.r2r.io/transitimages/119464615.jpg', 375, 250], ['//static.r2r.io/transitimages/38391861.jpg', 376, 250]], [[['854'], [1, 1, 1, 0], []]], [[210, 'CZK', 216.37, 'False', ''], [240, 'CZK', 237.01, 'False', ''], [260, 'CZK', 258.26, 'False', '']], [[9, 'EUR', 9.02, 'False', ''], [10, 'EUR', 9.88, 'False', ''], [11, 'EUR', 10.76, 'False', '']], [], [], '_FLIXBUS', ['station', 'Prague Hradčanská', 50.09652, 14.40141, 'CZ', 'Europe/Prague'], ['station', 'Karlovy Vary - Tržnice', 50.23089, 12.87015, 'CZ', 'Europe/Prague'], [[['station', 'Prague Hradčanská', 50.09652, 14.40141, 'CZ', 'Europe/Prague'], 15, 20, 'False', 'False'], [['station', 'Karlovy Vary - Tržnice', 50.23089, 12.87015, 'CZ', 'Europe/Prague'], 115, 115, 'False', 'False']], '', [], [], [['854', '73D700', 'FFFFFF']], ['_FLIXBUS'], 'Gtfs'], ['RegioJet', '//static.r2r.io/logos/Trains/96/_REGIOJET_201809231605.png', 'https://www.regiojet.com/', 'regiojet.com', 6900, 134.466, 80, 'RegioJet 141103', [['https://www.regiojet.com/', 'RegioJet', 'Website', 'RegioJet', '', '', '', '', '']], [], '+420 542 42 42 42', 'info@regiojet.cz', '', [], [], [[110, 'CZK', 113.95, 'False', ''], [130, 'CZK', 133.88, 'False', ''], [160, 'CZK', 156.69, 'False', '']], [[4, 'EUR', 4.75, 'False', ''], [6, 'EUR', 5.58, 'False', ''], [7, 'EUR', 6.53, 'False', '']], [], [], '_REGIOJET', ['station', 'Prague Hradcanska Station', 50.09715, 14.40312, 'CZ', 'Europe/Prague'], ['station', 'Karlovy Vary Trznice Bus Station', 50.23089, 12.87015, 'CZ', 'Europe/Prague'], [[['station', 'Prague Hradcanska Station', 50.09715, 14.40312, 'CZ', 'Europe/Prague'], '', 15, 'True', 'False'], [['station', 'Prague Airport Terminal 1/2', 50.10753, 14.26931, 'CZ', 'Europe/Prague'], 30, 30, 'False', 'False'], [['station', 'Karlovy Vary Trznice Bus Station', 50.23089, 12.87015, 'CZ', 'Europe/Prague'], 130, '', 'False', 'True']], '', [], [], [['RegioJet 141103', 'FFFFFF', 'D43910']], [], 'Gtfs']]] \n",
      "\n",
      "0 \t 0 \t 11 \t  \n",
      "\n",
      "0 \t 0 \t 12 \t False \n",
      "\n",
      "0 \t 0 \t 13 \t [[110, 'CZK', 113.95, 'False', ''], [220, 'CZK', 216.37, 'False', ''], [260, 'CZK', 258.26, 'False', '']] \n",
      "\n",
      "0 \t 0 \t 14 \t [[4, 'EUR', 4.75, 'False', ''], [9, 'EUR', 9.02, 'False', ''], [11, 'EUR', 10.76, 'False', '']] \n",
      "\n",
      "0 \t 0 \t 15 \t 53 \n",
      "\n",
      "0 \t 0 \t 16 \t 53 \n",
      "\n",
      "0 \t 0 \t 17 \t [] \n",
      "\n",
      "0 \t 0 \t 18 \t [[['station', 'Prague Hradčanská', 50.09652, 14.40141, 'CZ', 'Europe/Prague'], 15, 20, 'False', 'False'], [['station', 'Karlovy Vary - Tržnice', 50.23089, 12.87015, 'CZ', 'Europe/Prague'], 115, 115, 'False', 'False']] \n",
      "\n",
      "0 \t 0 \t 19 \t [] \n",
      "\n",
      "0 \t 0 \t 20 \t [] \n",
      "\n",
      "0 \t 0 \t 21 \t  \n",
      "\n",
      "0 \t 0 \t 22 \t [] \n",
      "\n",
      "0 \t 0 \t 23 \t [] \n",
      "\n",
      "path # 1\n",
      "\n",
      "1 \t 0 \t 0 \t transit \n",
      "\n",
      "1 \t 0 \t 1 \t train \n",
      "\n",
      "1 \t 0 \t 2 \t purple \n",
      "\n",
      "1 \t 0 \t 3 \t 11940 \n",
      "\n",
      "1 \t 0 \t 4 \t 3600 \n",
      "\n",
      "1 \t 0 \t 5 \t 232.2937 \n",
      "\n",
      "1 \t 0 \t 6 \t ['station', 'Praha Hlavni Nadrazi', 50.08139, 14.43528, 'CZ', 'Europe/Berlin'] \n",
      "\n",
      "1 \t 0 \t 7 \t ['station', 'Karlovy Vary', 50.23528, 12.86667, 'CZ', 'Europe/Berlin'] \n",
      "\n",
      "1 \t 0 \t 8 \t  \n",
      "\n",
      "1 \t 0 \t 9 \t True \n",
      "\n",
      "1 \t 0 \t 10 \t [11940, 232.2937, ['station', 'Praha Hlavni Nadrazi', 50.08139, 14.43528, 'CZ', 'Europe/Berlin'], ['station', 'Karlovy Vary', 50.23528, 12.86667, 'CZ', 'Europe/Berlin'], 'train', ['Bicycles', ' Wheelchair'], '608', 56, [['Czech Railways (ČD)', '//static.r2r.io/logos/trains/cz.png', 'https://www.cd.cz/default.htm', 'cd.cz', 11940, 232.2937, 56, '606, 608, 610, 612, 614, 616, 618, Sc', [['https://www.cd.cz/en/default.htm', 'Czech Railways (ČD)', 'Website', 'Czech Railways (ČD)', '', '', '', '', '']], [], '+420 221 111 122', 'info@cd.cz', '', [['//static.r2r.io/transitimages/1925692353.jpg', 333, 250], ['//static.r2r.io/transitimages/109230706.jpg', 378, 250], ['//static.r2r.io/transitimages/617635361.jpg', 351, 250], ['//static.r2r.io/transitimages/1513700827.jpg', 333, 250], ['//static.r2r.io/transitimages/661550187.jpg', 410, 250], ['//static.r2r.io/transitimages/222878159.jpg', 355, 250], ['//static.r2r.io/transitimages/22811425.jpg', 333, 250]], [], [[280, 'CZK', 281.53, 'False', ''], [400, 'CZK', 396.08, 'False', ''], [460, 'CZK', 459.55, 'False', '']], [['', '', ''], ['', '', ''], ['', '', '']], [['2nd Class', [[280, 'CZK', 281.53, 'False', ''], [310, 'CZK', 311.34, 'False', ''], [340, 'CZK', 336.14, 'False', '']]], ['Business', [[380, 'CZK', 386.87, 'False', ''], [420, 'CZK', 420.1, 'False', ''], [460, 'CZK', 454.43, 'False', '']]], ['1st Class', [[390, 'CZK', 396.08, 'False', ''], [430, 'CZK', 425.4, 'False', ''], [460, 'CZK', 459.55, 'False', '']]]], [], '_CZECH_RAILWAYS_(ČD)', ['station', 'Praha Hlavni Nadrazi', 50.08139, 14.43528, 'CZ', 'Europe/Berlin'], ['station', 'Karlovy Vary', 50.23528, 12.86667, 'CZ', 'Europe/Berlin'], [[['station', 'Praha Hlavni Nadrazi', 50.08139, 14.43528, 'CZ', 'Europe/Berlin'], 0, 0, 'False', 'False'], [['station', 'Praha-Holesovice', 50.11111, 14.44167, 'CZ', 'Europe/Berlin'], 8, 9, 'False', 'False'], [['station', 'Usti Nad Labem Hlavni Nadrazi', 50.66028, 14.04694, 'CZ', 'Europe/Berlin'], 72, 78, 'False', 'False'], [['station', 'Teplice V Cechach', 50.64806, 13.83333, 'CZ', 'Europe/Berlin'], 99, 100, 'False', 'False'], [['station', 'Bilina', 50.55667, 13.77306, 'CZ', 'Europe/Berlin'], 111, 112, 'False', 'False'], [['station', 'Most', 50.51278, 13.65306, 'CZ', 'Europe/Berlin'], 123, 125, 'False', 'False'], [['station', 'Jirkov Zastavka', 50.48667, 13.44972, 'CZ', 'Europe/Berlin'], 137, 137, 'False', 'False'], [['station', 'Chomutov', 50.45639, 13.39889, 'CZ', 'Europe/Berlin'], 144, 145, 'False', 'False'], [['station', 'Kadan-Prunerov', 50.41584, 13.265, 'CZ', 'Europe/Berlin'], 154, 155, 'False', 'False'], [['station', 'Klasterec Nad Ohri', 50.38417, 13.19722, 'CZ', 'Europe/Berlin'], 160, 161, 'False', 'False'], [['station', 'Ostrov Nad Ohri', 50.30194, 12.95917, 'CZ', 'Europe/Berlin'], 183, 184, 'False', 'False'], [['station', 'Karlovy Vary', 50.23528, 12.86667, 'CZ', 'Europe/Berlin'], 199, 201, 'False', 'False']], '', [], [], [['608', '', ''], ['610', '', ''], ['612', '', ''], ['614', '', ''], ['616', '', ''], ['606', '', ''], ['SC', '', ''], ['618', '', '']], [], 'Gtfs']]] \n",
      "\n",
      "1 \t 0 \t 11 \t  \n",
      "\n",
      "1 \t 0 \t 12 \t False \n",
      "\n",
      "1 \t 0 \t 13 \t [[280, 'CZK', 281.53, 'False', ''], [400, 'CZK', 396.08, 'False', ''], [460, 'CZK', 459.55, 'False', '']] \n",
      "\n",
      "1 \t 0 \t 14 \t [['', '', ''], ['', '', ''], ['', '', '']] \n",
      "\n",
      "1 \t 0 \t 15 \t 53 \n",
      "\n",
      "1 \t 0 \t 16 \t 53 \n",
      "\n",
      "1 \t 0 \t 17 \t [] \n",
      "\n",
      "1 \t 0 \t 18 \t [[['station', 'Praha Hlavni Nadrazi', 50.08139, 14.43528, 'CZ', 'Europe/Berlin'], 0, 0, 'False', 'False'], [['station', 'Praha-Holesovice', 50.11111, 14.44167, 'CZ', 'Europe/Berlin'], 8, 9, 'False', 'False'], [['station', 'Usti Nad Labem Hlavni Nadrazi', 50.66028, 14.04694, 'CZ', 'Europe/Berlin'], 72, 78, 'False', 'False'], [['station', 'Teplice V Cechach', 50.64806, 13.83333, 'CZ', 'Europe/Berlin'], 99, 100, 'False', 'False'], [['station', 'Bilina', 50.55667, 13.77306, 'CZ', 'Europe/Berlin'], 111, 112, 'False', 'False'], [['station', 'Most', 50.51278, 13.65306, 'CZ', 'Europe/Berlin'], 123, 125, 'False', 'False'], [['station', 'Jirkov Zastavka', 50.48667, 13.44972, 'CZ', 'Europe/Berlin'], 137, 137, 'False', 'False'], [['station', 'Chomutov', 50.45639, 13.39889, 'CZ', 'Europe/Berlin'], 144, 145, 'False', 'False'], [['station', 'Kadan-Prunerov', 50.41584, 13.265, 'CZ', 'Europe/Berlin'], 154, 155, 'False', 'False'], [['station', 'Klasterec Nad Ohri', 50.38417, 13.19722, 'CZ', 'Europe/Berlin'], 160, 161, 'False', 'False'], [['station', 'Ostrov Nad Ohri', 50.30194, 12.95917, 'CZ', 'Europe/Berlin'], 183, 184, 'False', 'False'], [['station', 'Karlovy Vary', 50.23528, 12.86667, 'CZ', 'Europe/Berlin'], 199, 201, 'False', 'False']] \n",
      "\n",
      "1 \t 0 \t 19 \t [['2nd Class', [[280, 'CZK', 281.53, 'False', ''], [310, 'CZK', 311.34, 'False', ''], [340, 'CZK', 336.14, 'False', '']]], ['Business', [[380, 'CZK', 386.87, 'False', ''], [420, 'CZK', 420.1, 'False', ''], [460, 'CZK', 454.43, 'False', '']]], ['1st Class', [[390, 'CZK', 396.08, 'False', ''], [430, 'CZK', 425.4, 'False', ''], [460, 'CZK', 459.55, 'False', '']]]] \n",
      "\n",
      "1 \t 0 \t 20 \t [] \n",
      "\n",
      "1 \t 0 \t 21 \t  \n",
      "\n",
      "1 \t 0 \t 22 \t [] \n",
      "\n",
      "1 \t 0 \t 23 \t [] \n",
      "\n",
      "path # 2\n",
      "\n",
      "2 \t 0 \t 0 \t car \n",
      "\n",
      "2 \t 0 \t 1 \t car \n",
      "\n",
      "2 \t 0 \t 2 \t grey-darker \n",
      "\n",
      "2 \t 0 \t 3 \t 6370.418 \n",
      "\n",
      "2 \t 0 \t 4 \t 0 \n",
      "\n",
      "2 \t 0 \t 5 \t 127.4307 \n",
      "\n",
      "2 \t 0 \t 6 \t ['node', 'Prague', 50.08804, 14.42076, 'CZ', 'Europe/Prague', 2.5] \n",
      "\n",
      "2 \t 0 \t 7 \t ['node', 'Karlovy Vary', 50.23271, 12.87117, 'CZ', 'Europe/Prague', 2.5] \n",
      "\n",
      "2 \t 0 \t 8 \t  \n",
      "\n",
      "2 \t 0 \t 9 \t True \n",
      "\n",
      "2 \t 0 \t 10 \t  \n",
      "\n",
      "2 \t 0 \t 11 \t  \n",
      "\n",
      "2 \t 0 \t 12 \t False \n",
      "\n",
      "2 \t 0 \t 13 \t [[500, 'CZK', 501.17, 'False', ''], [600, 'CZK', 612.54, 'False', ''], [750, 'CZK', 723.91, 'False', '']] \n",
      "\n",
      "2 \t 0 \t 14 \t [['', '', ''], ['', '', ''], ['', '', '']] \n",
      "\n",
      "2 \t 0 \t 15 \t 53 \n",
      "\n",
      "2 \t 0 \t 16 \t 53 \n",
      "\n",
      "2 \t 0 \t 17 \t [] \n",
      "\n",
      "2 \t 0 \t 18 \t [] \n",
      "\n",
      "2 \t 0 \t 19 \t [['Small vehicle', [[502, 'CZK', 501.17, 'False', ''], [502, 'CZK', 501.17, 'False', ''], [502, 'CZK', 501.17, 'False', '']]], ['Medium vehicle', [[613, 'CZK', 612.54, 'False', ''], [613, 'CZK', 612.54, 'False', ''], [613, 'CZK', 612.54, 'False', '']]], ['Large vehicle', [[724, 'CZK', 723.91, 'False', ''], [724, 'CZK', 723.91, 'False', ''], [724, 'CZK', 723.91, 'False', '']]]] \n",
      "\n",
      "2 \t 0 \t 20 \t [] \n",
      "\n",
      "2 \t 0 \t 21 \t  \n",
      "\n",
      "2 \t 0 \t 22 \t  \n",
      "\n",
      "2 \t 0 \t 23 \t [] \n",
      "\n"
     ]
    }
   ],
   "source": [
    "# unpacking each route's info from the section 8 (except last one [:-1], because it is 'hotel')\n",
    "for path_id, path in enumerate(pathes):\n",
    "    print(f'path # {path_id}\\n')\n",
    "    for i, route in enumerate(path[8][:-1]):\n",
    "        for j, way in enumerate(route):\n",
    "            print(path_id, '\\t', i, '\\t', j, '\\t', way, '\\n')\n"
   ]
  },
  {
   "cell_type": "code",
   "execution_count": 99,
   "metadata": {},
   "outputs": [],
   "source": [
    "# unpacking info from the section 9 - local moving inside the city, from city center to airport etc.\n",
    "for path_id, path in enumerate(pathes, start=1):\n",
    "    for i, route in enumerate(path[9]):\n",
    "        for j, way in enumerate(route[2]):\n",
    "            print(path_id, '\\n\\t', i, '\\t', j, '\\t', way, '\\n')"
   ]
  },
  {
   "cell_type": "code",
   "execution_count": 100,
   "metadata": {},
   "outputs": [
    {
     "name": "stdout",
     "output_type": "stream",
     "text": [
      "1 \n",
      "\t 0 \t ['station', 'Prague Hradčanská', 50.09652, 14.40141, 'CZ', 'Europe/Prague'] \n",
      "\n",
      "1 \n",
      "\t 1 \t ['station', 'Karlovy Vary - Tržnice', 50.23089, 12.87015, 'CZ', 'Europe/Prague'] \n",
      "\n",
      "2 \n",
      "\t 0 \t ['station', 'Praha Hlavni Nadrazi', 50.08139, 14.43528, 'CZ', 'Europe/Berlin'] \n",
      "\n",
      "2 \n",
      "\t 1 \t ['station', 'Karlovy Vary', 50.23528, 12.86667, 'CZ', 'Europe/Berlin'] \n",
      "\n",
      "3 \n",
      "\t 0 \t ['node', 'Prague', 50.08804, 14.42076, 'CZ', 'Europe/Prague', 2.5] \n",
      "\n",
      "3 \n",
      "\t 1 \t ['node', 'Karlovy Vary', 50.23271, 12.87117, 'CZ', 'Europe/Prague', 2.5] \n",
      "\n"
     ]
    }
   ],
   "source": [
    "# unpacking airports', stations' and nodes' coordinates for each route from pathes from the section 10\n",
    "for path_id, path in enumerate(pathes, start=1):\n",
    "    for i, route in enumerate(path[10]):\n",
    "        print(path_id, '\\n\\t', i, '\\t', route, '\\n')\n"
   ]
  },
  {
   "cell_type": "code",
   "execution_count": 101,
   "metadata": {},
   "outputs": [
    {
     "name": "stdout",
     "output_type": "stream",
     "text": [
      "1 \n",
      "\t 0 \t [['OmioEuBus', 'Book at {0}', 'Omio', 'False', 'Schedules and Book', [23, 8, [[40, 'Adult', 'Adults', ''], [10, 'Child', 'Children', '']], 40, [], 'True', -1, -1, 382, 'https://help.rome2rio.com/en/support/solutions/articles/22000239379-are-there-any-age-discounts-for-my-tickets-', 'False', 'False', [], 'False'], 'False', 6], ['FlixBus', 'Book at {0}', 'FlixBus', 'False', 'Schedules and Book', [23, 8, [[40, 'Adult', 'Adults', ''], [10, 'Child', 'Children', '(0-14)']], 40, [], 'True', -1, -1, -1, 'https://help.rome2rio.com/en/support/solutions/articles/22000239379-are-there-any-age-discounts-for-my-tickets-', 'False', 'False', [], 'False'], 'False', 0], ['Local', '', '', 'False', 'Schedules', [5, 8, [], 40, [], 'False', -1, -1, -1, 'https://help.rome2rio.com/en/support/solutions/articles/22000239379-are-there-any-age-discounts-for-my-tickets-', 'False', 'False', [], 'False'], 'True', 19], ['Distribusion', 'Book at {0}', 'Distribusion', 'True', 'Schedules and Book', [21, 8, [], 40, [], 'True', -1, -1, -1, 'https://help.rome2rio.com/en/support/solutions/articles/22000239379-are-there-any-age-discounts-for-my-tickets-', 'False', 'False', [], 'False'], 'False', 14]] \n",
      "\n",
      "1 \n",
      "\t 1 \t [[[[0, [[0, [0, 1, 2]], [1, [0, 3, 2]]], [-1, []], [-1, []], ['/tickets/Prague/Karlovy-Vary?oDateTime={oDateTime}&iDateTime={iDateTime}&adults={adults}&seniors={seniors}&youths={youths}&ages={ages}&checkoutExitLabel={checkoutExitLabel}&mode=bus&requestId=222-20230117-133720-1438626', 'Tickets', 'Tickets:bus', 'Prague', 'Karlovy-Vary', ['OmioEuBus', 'FlixBus', 'Distribusion'], 0, 0]]]]] \n",
      "\n",
      "2 \n",
      "\t 0 \t [['Local', '', '', 'False', 'Schedules', [5, 8, [], 40, [], 'False', -1, -1, -1, 'https://help.rome2rio.com/en/support/solutions/articles/22000239379-are-there-any-age-discounts-for-my-tickets-', 'False', 'False', [], 'False'], 'True', 19]] \n",
      "\n",
      "2 \n",
      "\t 1 \t [[[[0, [[0, [0]]], [-1, []], [-1, []], '']]]] \n",
      "\n",
      "3 \n",
      "\t 0 \t [] \n",
      "\n",
      "3 \n",
      "\t 1 \t [] \n",
      "\n"
     ]
    }
   ],
   "source": [
    "# unpacking accomodation info for each route from pathes from the section 15\n",
    "for path_id, path in enumerate(pathes, start=1):\n",
    "    for i, route in enumerate(path[15]):\n",
    "        print(path_id, '\\n\\t', i, '\\t', route, '\\n')"
   ]
  },
  {
   "cell_type": "code",
   "execution_count": 102,
   "metadata": {},
   "outputs": [
    {
     "name": "stdout",
     "output_type": "stream",
     "text": [
      "1 \n",
      "\t [[110, 'CZK', 113.95, 'False', ''], [220, 'CZK', 216.37, 'False', ''], [260, 'CZK', 258.26, 'False', '']] \n",
      "\n",
      "2 \n",
      "\t [[280, 'CZK', 281.53, 'False', ''], [400, 'CZK', 396.08, 'False', ''], [460, 'CZK', 459.55, 'False', '']] \n",
      "\n",
      "3 \n",
      "\t [[500, 'CZK', 501.17, 'False', ''], [600, 'CZK', 612.54, 'False', ''], [750, 'CZK', 723.91, 'False', '']] \n",
      "\n"
     ]
    }
   ],
   "source": [
    "# unpacking the prices (min, mid, max) of the path from the section 20\n",
    "for path_id, path in enumerate(pathes, start=1):\n",
    "    print(path_id, '\\n\\t', path[20], '\\n')"
   ]
  },
  {
   "cell_type": "code",
   "execution_count": 103,
   "metadata": {},
   "outputs": [
    {
     "name": "stdout",
     "output_type": "stream",
     "text": [
      "1 \n",
      "\t 0 \t [110, 'CZK', 113.95, 'False', ''] \n",
      "\n",
      "1 \n",
      "\t 1 \t [220, 'CZK', 216.37, 'False', ''] \n",
      "\n",
      "1 \n",
      "\t 2 \t [260, 'CZK', 258.26, 'False', ''] \n",
      "\n",
      "2 \n",
      "\t 0 \t [280, 'CZK', 281.53, 'False', ''] \n",
      "\n",
      "2 \n",
      "\t 1 \t [400, 'CZK', 396.08, 'False', ''] \n",
      "\n",
      "2 \n",
      "\t 2 \t [460, 'CZK', 459.55, 'False', ''] \n",
      "\n",
      "3 \n",
      "\t 0 \t [500, 'CZK', 501.17, 'False', ''] \n",
      "\n",
      "3 \n",
      "\t 1 \t [600, 'CZK', 612.54, 'False', ''] \n",
      "\n",
      "3 \n",
      "\t 2 \t [750, 'CZK', 723.91, 'False', ''] \n",
      "\n"
     ]
    }
   ],
   "source": [
    "# unpacking the prices (min, mid, max) for each route of the path from the section 20\n",
    "for path_id, path in enumerate(pathes, start=1):\n",
    "    for i, route in enumerate(path[20]):\n",
    "        print(path_id, '\\n\\t', i, '\\t', route, '\\n')"
   ]
  }
 ],
 "metadata": {
  "kernelspec": {
   "display_name": ".ctenv",
   "language": "python",
   "name": "python3"
  },
  "language_info": {
   "codemirror_mode": {
    "name": "ipython",
    "version": 3
   },
   "file_extension": ".py",
   "mimetype": "text/x-python",
   "name": "python",
   "nbconvert_exporter": "python",
   "pygments_lexer": "ipython3",
   "version": "3.10.6"
  },
  "orig_nbformat": 4,
  "vscode": {
   "interpreter": {
    "hash": "c3f7be89f86d62a976a95081a758c425dc75ed91bec78d027fa107c71f465ec4"
   }
  }
 },
 "nbformat": 4,
 "nbformat_minor": 2
}
