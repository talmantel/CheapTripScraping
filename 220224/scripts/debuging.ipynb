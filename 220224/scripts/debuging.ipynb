{
 "cells": [
  {
   "cell_type": "code",
   "execution_count": 73,
   "metadata": {},
   "outputs": [],
   "source": [
    "import time\n",
    "import concurrent.futures\n",
    "import requests\n",
    "from urllib.request import urlopen\n",
    "from bs4 import BeautifulSoup\n",
    "import json\n",
    "\n",
    "import compress_json\n",
    "\n",
    "from settings import OUTPUT_JSON_DIR\n",
    "from make_city_pairs import gen_city_country_pairs"
   ]
  },
  {
   "cell_type": "code",
   "execution_count": 74,
   "metadata": {},
   "outputs": [],
   "source": [
    "from_to = \"Santorini/Heraklion\"\n",
    "parsed = []"
   ]
  },
  {
   "cell_type": "code",
   "execution_count": 75,
   "metadata": {},
   "outputs": [
    {
     "name": "stdout",
     "output_type": "stream",
     "text": [
      "https://www.rome2rio.com/map/Santorini/Heraklion-ggg\n"
     ]
    }
   ],
   "source": [
    "base_url = \"https://www.rome2rio.com/map/\"\n",
    "    \n",
    "tmp_url = base_url + from_to\n",
    "    \n",
    "print(tmp_url)\n",
    "    "
   ]
  },
  {
   "cell_type": "code",
   "execution_count": 76,
   "metadata": {},
   "outputs": [
    {
     "name": "stdout",
     "output_type": "stream",
     "text": [
      "<!doctype html><html lang=\"en\"><head><meta charset=\"utf-8\"><meta name=\"robots\" content=\"noindex\"><meta name=\"viewport\" content=\"width=device-width,initial-scale=1\"><script defer=\"defer\" src=\"/mweb_resources/static/js/main.788b5471.js\"></script><title>Rome2rio</title><meta name=\"description\" content=\"Discover how to get anywhere by searching plane, train, bus, car and ferry routes\"><meta name=\"author\" content=\"Rome2rio Pty Ltd\"><meta property=\"og:type\" content=\"article\"><meta property=\"og:site_name\" content=\"Rome2rio\"><meta property=\"og:title\" content=\"Rome2rio\"><meta property=\"og:description\" content=\"Discover how to get anywhere by searching plane, train, bus, car and ferry routes\"><meta property=\"og:image\" content=\"/mweb_resources/favicon/open-graph.png\"><meta property=\"og:url\" content=\"https://www.rome2rio.com/map/Santorini/Heraklion-ggg\"><meta property=\"og:image:width\" content=\"1200\"><meta property=\"og:image:height\" content=\"630\"><meta name=\"twitter:site\" content=\"@rome2rio\"><meta name=\"twitter:card\" content=\"summary\"><meta name=\"twitter:title\" content=\"Rome2rio\"><meta name=\"twitter:description\" content=\"Discover how to get anywhere by searching plane, train, bus, car and ferry routes\"><meta name=\"twitter:image\" content=\"/mweb_resources/favicon/twitter.png\"><meta name=\"twitter:url\" content=\"https://www.rome2rio.com/map/Santorini/Heraklion-ggg\"><meta name=\"twitter:app:country\" content=\"US\"><meta name=\"twitter:app:name:iphone\" content=\"Rome2rio: rail, air, road and sea search\"><meta name=\"twitter:app:id:iphone\" content=\"569793256\"><meta name=\"twitter:app:url:iphone\" content=\"rome2rio://www.rome2rio.com/map/Santorini/Heraklion-ggg\"><meta name=\"twitter:app:name:ipad\" content=\"Rome2rio: rail, air, road and sea search\"><meta name=\"twitter:app:id:ipad\" content=\"569793256\"><meta name=\"twitter:app:url:ipad\" content=\"rome2rio://www.rome2rio.com/map/Santorini/Heraklion-ggg\"><meta name=\"version\" content=\"1.0.0\"><link rel=\"apple-touch-icon\" sizes=\"180x180\" href=\"/mweb_resources/favicon/apple-touch-icon.png\"><link rel=\"icon\" type=\"image/png\" sizes=\"32x32\" href=\"/mweb_resources/favicon/favicon-32x32.png\"><link rel=\"icon\" type=\"image/png\" sizes=\"16x16\" href=\"/mweb_resources/favicon/favicon-16x16.png\"><link rel=\"manifest\" href=\"/mweb_resources/favicon/manifest.json\"><link rel=\"mask-icon\" href=\"/mweb_resources/favicon/safari-pinned-tab.svg\" color=\"#5bbad5\"><meta name=\"msapplication-TileColor\" content=\"#da532c\"><meta name=\"theme-color\" content=\"#ffffff\"><link rel=\"preconnect\" href=\"https://services.rome2rio.com/\" crossorigin><link rel=\"preconnect\" href=\"https://notifier.rome2rio.com/\" crossorigin><link rel=\"preconnect\" href=\"//fonts.gstatic.com/\" crossorigin><link rel=\"preconnect\" href=\"//cdn.raygun.io/\" crossorigin><link rel=\"preconnect\" href=\"https://www.google-analytics.com\" crossorigin><link rel=\"preconnect\" href=\"//www.google.com/adsense/search/async-ads.js\" crossorigin><link rel=\"preconnect\" href=\"//fonts.googleapis.com\"><link href=\"https://fonts.googleapis.com/css2?family=Roboto:wght@300;400;500;600;700&display=swap\" rel=\"stylesheet\"><script type=\"text/javascript\">addEventListener(\"error\",window.__e=function e(n){(e.q=e.q||[]).push(n)},!0)</script><script type=\"text/javascript\">!function(n,e,r,o,t,c,s,u){n.RaygunObject=t,n[t]=n[t]||function(){(n[t].o=n[t].o||[]).push(arguments)},c=e.createElement(r),s=e.getElementsByTagName(r)[0],c.async=1,c.src=\"//cdn.raygun.io/raygun4js/raygun.min.js\",s.parentNode.insertBefore(c,s),u=n.onerror,n.onerror=function(e,r,o,c,s){u&&u(e,r,o,c,s),s||(s=new Error(e)),n[t].q=n[t].q||[],n[t].q.push({e:s})}}(window,document,\"script\",0,\"rg4js\")</script><script async src=\"//www.googletagmanager.com/gtag/js?id=UA-22361422-1\"></script><script>try{function gtag(){dataLayer.push(arguments)}window.dataLayer=window.dataLayer||[],gtag(\"js\",new Date),gtag(\"config\",\"UA-22361422-1\",{groups:[\"general\",\"content\"],send_page_view:!1,transport_type:\"beacon\"}),window.sendGaNonInteractionEvent=function(n,e,o){const t=window.location.href.match(new RegExp(\"features=([^&#]*)\")),a=t&&t[1].split(\",\").includes(\"LogGaEventsToConsole\");window.gtag&&window.gtag(\"event\",e,{event_category:n,event_label:o,send_to:\"general\",non_interaction:!0}),a&&console.log(\"» %c\"+n+\" %cni%c\"+e+\" %c\"+o,\"color:blue;\",\"color:grey;border:solid 1px grey;font-size:9px;border-radius:2px;margin-right:6px;\",\"color:green;\",\"color:#48104d;\")};const n=window.location.href,e=n.match(new RegExp(\"/map/([^/]+)/\")),o=n.match(new RegExp(\"/map/[^/]+/([^/#]+)\")),t=e?decodeURIComponent(e[1]):void 0,a=o?decodeURIComponent(o[1]):void 0;window.sendGaNonInteractionEvent(\"GenericExplore\",\"Pageload:Init\",t+\":\"+a)}catch(r){window.rg4js&&window.rg4js(\"send\",{error:r,tags:[\"non-fatal\",\"analytics\"]})}</script><script type=\"text/javascript\">!function(e,n,s,t,a,o){e[t]=e[t]||function(){(e[t].q=e[t].q||[]).push(arguments)},e[t].t=1*new Date,a=n.createElement(s),o=n.getElementsByTagName(s)[0],a.async=1,a.src=\"//www.google.com/adsense/search/async-ads.js\",o.parentNode.insertBefore(a,o)}(window,document,\"script\",\"_googCsa\")</script><script async=\"async\" src=\"https://securepubads.g.doubleclick.net/tag/js/gpt.js\"></script><script>function getCookie(o){var e=document.cookie.match(\"(^|;) ?\"+o+\"=([^;]*)(;|$)\");return e?e[2]:null}window.googletag=window.googletag||{},window.googletag.cmd=window.googletag.cmd||[];const personalizedAdsDisabled=getCookie(\"disable_personalised_ads\");window.sendGaNonInteractionEvent(\"Ads\",\"Init:gpt\",\"queuing\"),window.googletag.cmd.push((function(){window.sendGaNonInteractionEvent(\"Ads\",\"Init:gpt\",\"started\"),window.googletag.pubads(),personalizedAdsDisabled&&window.googletag.pubads().setRequestNonPersonalizedAds(1),window.googletag.enableServices(),window.sendGaNonInteractionEvent(\"Ads\",\"Init:gpt\",\"complete\")}))</script><script type=\"text/javascript\">rg4js(\"apiKey\",\"QoYCaSpzocGccbdjHvvaXw\"),rg4js(\"enableCrashReporting\",!0),rg4js(\"options\",{ignore3rdPartyErrors:!0}),rg4js(\"setAutoBreadcrumbsXHRIgnoredHosts\",[\"securepubads.g.doubleclick\",\"google-analytics\"]),rg4js(\"setVersion\",\"1.0.0\")</script><script>!function(t,h,e,j,s,n){t.hj=t.hj||function(){(t.hj.q=t.hj.q||[]).push(arguments)},t._hjSettings={hjid:348555,hjsv:6},s=h.getElementsByTagName(\"head\")[0],(n=h.createElement(\"script\")).async=1,n.src=\"https://static.hotjar.com/c/hotjar-\"+t._hjSettings.hjid+\".js?sv=\"+t._hjSettings.hjsv,s.appendChild(n)}(window,document)</script></head><body><noscript>You need to enable JavaScript to run this app.</noscript><div id=\"root\"></div><script id=\"prefetch-data\" type=\"application/json\"></script></body></html>\n"
     ]
    }
   ],
   "source": [
    "page = urlopen(tmp_url)\n",
    "html = page.read().decode(\"utf-8\")\n",
    "print(html)"
   ]
  },
  {
   "cell_type": "code",
   "execution_count": 77,
   "metadata": {},
   "outputs": [
    {
     "name": "stdout",
     "output_type": "stream",
     "text": [
      "<!DOCTYPE html>\n",
      "<html lang=\"en\"><head><meta charset=\"utf-8\"/><meta content=\"noindex\" name=\"robots\"/><meta content=\"width=device-width,initial-scale=1\" name=\"viewport\"/><script defer=\"defer\" src=\"/mweb_resources/static/js/main.788b5471.js\"></script><title>Rome2rio</title><meta content=\"Discover how to get anywhere by searching plane, train, bus, car and ferry routes\" name=\"description\"/><meta content=\"Rome2rio Pty Ltd\" name=\"author\"/><meta content=\"article\" property=\"og:type\"/><meta content=\"Rome2rio\" property=\"og:site_name\"/><meta content=\"Rome2rio\" property=\"og:title\"/><meta content=\"Discover how to get anywhere by searching plane, train, bus, car and ferry routes\" property=\"og:description\"/><meta content=\"/mweb_resources/favicon/open-graph.png\" property=\"og:image\"/><meta content=\"https://www.rome2rio.com/map/Santorini/Heraklion-ggg\" property=\"og:url\"/><meta content=\"1200\" property=\"og:image:width\"/><meta content=\"630\" property=\"og:image:height\"/><meta content=\"@rome2rio\" name=\"twitter:site\"/><meta content=\"summary\" name=\"twitter:card\"/><meta content=\"Rome2rio\" name=\"twitter:title\"/><meta content=\"Discover how to get anywhere by searching plane, train, bus, car and ferry routes\" name=\"twitter:description\"/><meta content=\"/mweb_resources/favicon/twitter.png\" name=\"twitter:image\"/><meta content=\"https://www.rome2rio.com/map/Santorini/Heraklion-ggg\" name=\"twitter:url\"/><meta content=\"US\" name=\"twitter:app:country\"/><meta content=\"Rome2rio: rail, air, road and sea search\" name=\"twitter:app:name:iphone\"/><meta content=\"569793256\" name=\"twitter:app:id:iphone\"/><meta content=\"rome2rio://www.rome2rio.com/map/Santorini/Heraklion-ggg\" name=\"twitter:app:url:iphone\"/><meta content=\"Rome2rio: rail, air, road and sea search\" name=\"twitter:app:name:ipad\"/><meta content=\"569793256\" name=\"twitter:app:id:ipad\"/><meta content=\"rome2rio://www.rome2rio.com/map/Santorini/Heraklion-ggg\" name=\"twitter:app:url:ipad\"/><meta content=\"1.0.0\" name=\"version\"/><link href=\"/mweb_resources/favicon/apple-touch-icon.png\" rel=\"apple-touch-icon\" sizes=\"180x180\"/><link href=\"/mweb_resources/favicon/favicon-32x32.png\" rel=\"icon\" sizes=\"32x32\" type=\"image/png\"/><link href=\"/mweb_resources/favicon/favicon-16x16.png\" rel=\"icon\" sizes=\"16x16\" type=\"image/png\"/><link href=\"/mweb_resources/favicon/manifest.json\" rel=\"manifest\"/><link color=\"#5bbad5\" href=\"/mweb_resources/favicon/safari-pinned-tab.svg\" rel=\"mask-icon\"/><meta content=\"#da532c\" name=\"msapplication-TileColor\"/><meta content=\"#ffffff\" name=\"theme-color\"/><link crossorigin=\"\" href=\"https://services.rome2rio.com/\" rel=\"preconnect\"/><link crossorigin=\"\" href=\"https://notifier.rome2rio.com/\" rel=\"preconnect\"/><link crossorigin=\"\" href=\"//fonts.gstatic.com/\" rel=\"preconnect\"/><link crossorigin=\"\" href=\"//cdn.raygun.io/\" rel=\"preconnect\"/><link crossorigin=\"\" href=\"https://www.google-analytics.com\" rel=\"preconnect\"/><link crossorigin=\"\" href=\"//www.google.com/adsense/search/async-ads.js\" rel=\"preconnect\"/><link href=\"//fonts.googleapis.com\" rel=\"preconnect\"/><link href=\"https://fonts.googleapis.com/css2?family=Roboto:wght@300;400;500;600;700&amp;display=swap\" rel=\"stylesheet\"/><script type=\"text/javascript\">addEventListener(\"error\",window.__e=function e(n){(e.q=e.q||[]).push(n)},!0)</script><script type=\"text/javascript\">!function(n,e,r,o,t,c,s,u){n.RaygunObject=t,n[t]=n[t]||function(){(n[t].o=n[t].o||[]).push(arguments)},c=e.createElement(r),s=e.getElementsByTagName(r)[0],c.async=1,c.src=\"//cdn.raygun.io/raygun4js/raygun.min.js\",s.parentNode.insertBefore(c,s),u=n.onerror,n.onerror=function(e,r,o,c,s){u&&u(e,r,o,c,s),s||(s=new Error(e)),n[t].q=n[t].q||[],n[t].q.push({e:s})}}(window,document,\"script\",0,\"rg4js\")</script><script async=\"\" src=\"//www.googletagmanager.com/gtag/js?id=UA-22361422-1\"></script><script>try{function gtag(){dataLayer.push(arguments)}window.dataLayer=window.dataLayer||[],gtag(\"js\",new Date),gtag(\"config\",\"UA-22361422-1\",{groups:[\"general\",\"content\"],send_page_view:!1,transport_type:\"beacon\"}),window.sendGaNonInteractionEvent=function(n,e,o){const t=window.location.href.match(new RegExp(\"features=([^&#]*)\")),a=t&&t[1].split(\",\").includes(\"LogGaEventsToConsole\");window.gtag&&window.gtag(\"event\",e,{event_category:n,event_label:o,send_to:\"general\",non_interaction:!0}),a&&console.log(\"» %c\"+n+\" %cni%c\"+e+\" %c\"+o,\"color:blue;\",\"color:grey;border:solid 1px grey;font-size:9px;border-radius:2px;margin-right:6px;\",\"color:green;\",\"color:#48104d;\")};const n=window.location.href,e=n.match(new RegExp(\"/map/([^/]+)/\")),o=n.match(new RegExp(\"/map/[^/]+/([^/#]+)\")),t=e?decodeURIComponent(e[1]):void 0,a=o?decodeURIComponent(o[1]):void 0;window.sendGaNonInteractionEvent(\"GenericExplore\",\"Pageload:Init\",t+\":\"+a)}catch(r){window.rg4js&&window.rg4js(\"send\",{error:r,tags:[\"non-fatal\",\"analytics\"]})}</script><script type=\"text/javascript\">!function(e,n,s,t,a,o){e[t]=e[t]||function(){(e[t].q=e[t].q||[]).push(arguments)},e[t].t=1*new Date,a=n.createElement(s),o=n.getElementsByTagName(s)[0],a.async=1,a.src=\"//www.google.com/adsense/search/async-ads.js\",o.parentNode.insertBefore(a,o)}(window,document,\"script\",\"_googCsa\")</script><script async=\"async\" src=\"https://securepubads.g.doubleclick.net/tag/js/gpt.js\"></script><script>function getCookie(o){var e=document.cookie.match(\"(^|;) ?\"+o+\"=([^;]*)(;|$)\");return e?e[2]:null}window.googletag=window.googletag||{},window.googletag.cmd=window.googletag.cmd||[];const personalizedAdsDisabled=getCookie(\"disable_personalised_ads\");window.sendGaNonInteractionEvent(\"Ads\",\"Init:gpt\",\"queuing\"),window.googletag.cmd.push((function(){window.sendGaNonInteractionEvent(\"Ads\",\"Init:gpt\",\"started\"),window.googletag.pubads(),personalizedAdsDisabled&&window.googletag.pubads().setRequestNonPersonalizedAds(1),window.googletag.enableServices(),window.sendGaNonInteractionEvent(\"Ads\",\"Init:gpt\",\"complete\")}))</script><script type=\"text/javascript\">rg4js(\"apiKey\",\"QoYCaSpzocGccbdjHvvaXw\"),rg4js(\"enableCrashReporting\",!0),rg4js(\"options\",{ignore3rdPartyErrors:!0}),rg4js(\"setAutoBreadcrumbsXHRIgnoredHosts\",[\"securepubads.g.doubleclick\",\"google-analytics\"]),rg4js(\"setVersion\",\"1.0.0\")</script><script>!function(t,h,e,j,s,n){t.hj=t.hj||function(){(t.hj.q=t.hj.q||[]).push(arguments)},t._hjSettings={hjid:348555,hjsv:6},s=h.getElementsByTagName(\"head\")[0],(n=h.createElement(\"script\")).async=1,n.src=\"https://static.hotjar.com/c/hotjar-\"+t._hjSettings.hjid+\".js?sv=\"+t._hjSettings.hjsv,s.appendChild(n)}(window,document)</script></head><body><noscript>You need to enable JavaScript to run this app.</noscript><div id=\"root\"></div><script id=\"prefetch-data\" type=\"application/json\"></script></body></html>\n"
     ]
    }
   ],
   "source": [
    "soup = BeautifulSoup(html, \"html.parser\")\n",
    "print(soup)"
   ]
  },
  {
   "cell_type": "code",
   "execution_count": 78,
   "metadata": {},
   "outputs": [
    {
     "data": {
      "text/plain": [
       "' r = requests.get(tmp_url)\\nprint(r.status_code) '"
      ]
     },
     "execution_count": 78,
     "metadata": {},
     "output_type": "execute_result"
    }
   ],
   "source": [
    "\"\"\" r = requests.get(tmp_url)\n",
    "print(r.status_code) \"\"\""
   ]
  },
  {
   "cell_type": "code",
   "execution_count": 79,
   "metadata": {},
   "outputs": [
    {
     "data": {
      "text/plain": [
       "\" soup = BeautifulSoup(r.content, 'html.parser')\\n        \\nprint(soup) \""
      ]
     },
     "execution_count": 79,
     "metadata": {},
     "output_type": "execute_result"
    }
   ],
   "source": [
    "\"\"\" soup = BeautifulSoup(r.content, 'html.parser')\n",
    "        \n",
    "print(soup) \"\"\""
   ]
  },
  {
   "cell_type": "code",
   "execution_count": 80,
   "metadata": {},
   "outputs": [
    {
     "ename": "TypeError",
     "evalue": "'NoneType' object is not subscriptable",
     "output_type": "error",
     "traceback": [
      "\u001b[0;31m---------------------------------------------------------------------------\u001b[0m",
      "\u001b[0;31mTypeError\u001b[0m                                 Traceback (most recent call last)",
      "Cell \u001b[0;32mIn[80], line 2\u001b[0m\n\u001b[1;32m      1\u001b[0m dis \u001b[39m=\u001b[39m soup\u001b[39m.\u001b[39mfind(\u001b[39m'\u001b[39m\u001b[39mmeta\u001b[39m\u001b[39m'\u001b[39m, {\u001b[39m'\u001b[39m\u001b[39mid\u001b[39m\u001b[39m'\u001b[39m:\u001b[39m'\u001b[39m\u001b[39mdeeplinkTrip\u001b[39m\u001b[39m'\u001b[39m})\n\u001b[0;32m----> 2\u001b[0m \u001b[39mprint\u001b[39m(dis[\u001b[39m'\u001b[39;49m\u001b[39mcontent\u001b[39;49m\u001b[39m'\u001b[39;49m])\n",
      "\u001b[0;31mTypeError\u001b[0m: 'NoneType' object is not subscriptable"
     ]
    }
   ],
   "source": [
    "dis = soup.find('meta', {'id':'deeplinkTrip'})\n",
    "print(dis['content'])"
   ]
  },
  {
   "cell_type": "code",
   "execution_count": null,
   "metadata": {},
   "outputs": [
    {
     "ename": "TypeError",
     "evalue": "'NoneType' object is not subscriptable",
     "output_type": "error",
     "traceback": [
      "\u001b[0;31m---------------------------------------------------------------------------\u001b[0m",
      "\u001b[0;31mTypeError\u001b[0m                                 Traceback (most recent call last)",
      "Cell \u001b[0;32mIn[476], line 1\u001b[0m\n\u001b[0;32m----> 1\u001b[0m parsed \u001b[39m=\u001b[39m json\u001b[39m.\u001b[39mloads(dis[\u001b[39m'\u001b[39;49m\u001b[39mcontent\u001b[39;49m\u001b[39m'\u001b[39;49m])\n\u001b[1;32m      2\u001b[0m \u001b[39mprint\u001b[39m(parsed)\n",
      "\u001b[0;31mTypeError\u001b[0m: 'NoneType' object is not subscriptable"
     ]
    }
   ],
   "source": [
    "parsed = json.loads(dis['content'])\n",
    "print(parsed)"
   ]
  },
  {
   "cell_type": "code",
   "execution_count": null,
   "metadata": {},
   "outputs": [],
   "source": [
    "for i, item in enumerate(parsed):\n",
    "    print(i, '\\n\\t', item)"
   ]
  }
 ],
 "metadata": {
  "kernelspec": {
   "display_name": ".ctenv",
   "language": "python",
   "name": "python3"
  },
  "language_info": {
   "codemirror_mode": {
    "name": "ipython",
    "version": 3
   },
   "file_extension": ".py",
   "mimetype": "text/x-python",
   "name": "python",
   "nbconvert_exporter": "python",
   "pygments_lexer": "ipython3",
   "version": "3.10.6"
  },
  "orig_nbformat": 4,
  "vscode": {
   "interpreter": {
    "hash": "c3f7be89f86d62a976a95081a758c425dc75ed91bec78d027fa107c71f465ec4"
   }
  }
 },
 "nbformat": 4,
 "nbformat_minor": 2
}
