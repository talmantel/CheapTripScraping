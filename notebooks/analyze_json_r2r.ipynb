{
 "cells": [
  {
   "cell_type": "code",
   "execution_count": 1,
   "metadata": {},
   "outputs": [],
   "source": [
    "import requests\n",
    "from bs4 import BeautifulSoup\n",
    "import json\n"
   ]
  },
  {
   "cell_type": "code",
   "execution_count": 2,
   "metadata": {},
   "outputs": [],
   "source": [
    "from currency_converter import CurrencyConverter, SINGLE_DAY_ECB_URL\n",
    "cc = CurrencyConverter(SINGLE_DAY_ECB_URL)"
   ]
  },
  {
   "cell_type": "code",
   "execution_count": 3,
   "metadata": {},
   "outputs": [],
   "source": [
    "from_to = \"Naples/Turin\"\n"
   ]
  },
  {
   "cell_type": "code",
   "execution_count": 4,
   "metadata": {},
   "outputs": [
    {
     "name": "stdout",
     "output_type": "stream",
     "text": [
      "https://www.rome2rio.com/map/Naples/Turin\n"
     ]
    }
   ],
   "source": [
    "base_url = \"https://www.rome2rio.com/map/\"\n",
    "    \n",
    "tmp_url = base_url + from_to    \n",
    "print(tmp_url)"
   ]
  },
  {
   "cell_type": "code",
   "execution_count": 5,
   "metadata": {},
   "outputs": [],
   "source": [
    "s = requests.session()\n",
    "r = s.get(tmp_url)"
   ]
  },
  {
   "cell_type": "code",
   "execution_count": null,
   "metadata": {},
   "outputs": [],
   "source": [
    "soup = BeautifulSoup(r.text, \"html.parser\")\n",
    "print(soup.prettify())"
   ]
  },
  {
   "cell_type": "code",
   "execution_count": null,
   "metadata": {},
   "outputs": [],
   "source": [
    "# finds common info about the trip\n",
    "title = soup.find('meta', property=\"og:title\")\n",
    "print(title['content'])"
   ]
  },
  {
   "cell_type": "code",
   "execution_count": 8,
   "metadata": {},
   "outputs": [
    {
     "name": "stdout",
     "output_type": "stream",
     "text": [
      "The cheapest way to get from Naples to Turin costs only €50, and the quickest way takes just 3½ hours. Find the travel option that best suits you.\n"
     ]
    }
   ],
   "source": [
    "# gets quickest and cheapest ways\n",
    "description = soup.find('meta', property=\"og:description\")\n",
    "print(description['content'])"
   ]
  },
  {
   "cell_type": "code",
   "execution_count": 9,
   "metadata": {},
   "outputs": [
    {
     "data": {
      "text/plain": [
       "'[[\"GeoCoderResultV1\",\"Naples\",\"Naples, Italy\",40.85216,14.26811,\"City\",\"IT\",\"Naples\",\"False\",2.5],[\"GeoCoderResultV1\",\"Turin\",\"Turin, Italy\",45.07049,7.68682,\"City\",\"IT\",\"Turin\",\"False\",2.5]]'"
      ]
     },
     "execution_count": 9,
     "metadata": {},
     "output_type": "execute_result"
    }
   ],
   "source": [
    "# finds nodes geolocation info\n",
    "nodes = soup.find('meta', id=\"deeplinkNodes\")\n",
    "nodes['content']"
   ]
  },
  {
   "cell_type": "code",
   "execution_count": 10,
   "metadata": {},
   "outputs": [
    {
     "name": "stdout",
     "output_type": "stream",
     "text": [
      "<class 'bs4.element.Tag'>\n",
      "<class 'list'>\n"
     ]
    }
   ],
   "source": [
    "# find trip`s pathes\n",
    "pathes = soup.find('meta', id=\"deeplinkTrip\")\n",
    "print(type(pathes))\n",
    "pathes = json.loads(pathes['content'])[2][1]\n",
    "print(type(pathes))"
   ]
  },
  {
   "cell_type": "code",
   "execution_count": 11,
   "metadata": {},
   "outputs": [
    {
     "name": "stdout",
     "output_type": "stream",
     "text": [
      "num_pathes = 8\n"
     ]
    }
   ],
   "source": [
    "# calculates number of pathes\n",
    "num_pathes = len([i for i in pathes])\n",
    "print(f'{num_pathes = }')"
   ]
  },
  {
   "cell_type": "code",
   "execution_count": null,
   "metadata": {},
   "outputs": [],
   "source": [
    "# get all pathes wirh numbers\n",
    "for i, item in enumerate(pathes, start=1):\n",
    "    print('path ', i, '\\n\\t', item, '\\n\\n')"
   ]
  },
  {
   "cell_type": "code",
   "execution_count": null,
   "metadata": {},
   "outputs": [],
   "source": [
    "# unpacking all routes from each path\n",
    "for path_id, path in enumerate(pathes, start=1):\n",
    "    for i, route in enumerate(path):\n",
    "        print(path_id, '\\n\\t', i, '\\t', route, '\\n')"
   ]
  },
  {
   "cell_type": "code",
   "execution_count": null,
   "metadata": {},
   "outputs": [],
   "source": [
    "# unpacking routes info from the section 8 (except last one [:-1], because it is 'hotel')\n",
    "for path_id, path in enumerate(pathes, start=1):\n",
    "    for i, route in enumerate(path[9]):\n",
    "        print(path_id, '\\n\\t', i, '\\t', route, '\\n')\n",
    "\n",
    "    "
   ]
  },
  {
   "cell_type": "code",
   "execution_count": null,
   "metadata": {},
   "outputs": [],
   "source": [
    "for path_id, path in enumerate(pathes):\n",
    "    print(f'path # {path_id}\\n')\n",
    "    for i, route in enumerate(path[9]):\n",
    "        for j, way in enumerate(route):\n",
    "            print(path_id, '\\t', i, '\\t', j, '\\t', way, '\\n')"
   ]
  },
  {
   "cell_type": "code",
   "execution_count": null,
   "metadata": {},
   "outputs": [],
   "source": [
    "# unpacking routes info from the section 8 (except last one [:-1], because it is 'hotel')\n",
    "for path_id, path in enumerate(pathes, start=1):\n",
    "    for i, route in enumerate(path[8][:-1]):\n",
    "        print(path_id, '\\n\\t', i, '\\t', route, '\\n')\n",
    "\n",
    "    "
   ]
  },
  {
   "cell_type": "code",
   "execution_count": null,
   "metadata": {},
   "outputs": [],
   "source": [
    "# unpacking each route's info from the section 8 (except last one [:-1], because it is 'hotel')\n",
    "for path_id, path in enumerate(pathes):\n",
    "    print(f'path # {path_id}\\n')\n",
    "    for i, route in enumerate(path[8][:-1]):\n",
    "        for j, way in enumerate(route):\n",
    "            print(path_id, '\\t', i, '\\t', j, '\\t', way, '\\n')\n"
   ]
  },
  {
   "cell_type": "code",
   "execution_count": 36,
   "metadata": {},
   "outputs": [
    {
     "name": "stdout",
     "output_type": "stream",
     "text": [
      "path # 0\n",
      "\n",
      "0 \t 0 \t [['station', 'Naples Metropark Central Parking', 40.85111, 14.27459, 'IT', 'Europe/Rome'], '', 0, 'True', 'False'] \n",
      "\n",
      "0 \t 1 \t [['station', 'Caserta Piazza Carlo Terzo', 41.06892, 14.32676, 'IT', 'Europe/Rome'], 40, 45, 'False', 'False'] \n",
      "\n",
      "0 \t 2 \t [['station', 'Rome Tiburtina Largo Mazzoni', 41.90944, 12.52831, 'IT', 'Europe/Rome'], 185, 195, 'False', 'False'] \n",
      "\n",
      "0 \t 3 \t [['station', 'Florence Villa Constanza Bus Station', 43.75522, 11.17276, 'IT', 'Europe/Rome'], 390, 395, 'False', 'False'] \n",
      "\n",
      "0 \t 4 \t [['station', 'Bologna Autostazione', 44.50394, 11.34692, 'IT', 'Europe/Rome'], 475, 480, 'False', 'False'] \n",
      "\n",
      "0 \t 5 \t [['station', 'Reggio Emilia Train Station', 44.69934, 10.6428, 'IT', 'Europe/Rome'], 544, 545, 'False', 'False'] \n",
      "\n",
      "0 \t 6 \t [['station', 'Piacenza Central Train Station', 45.05219, 9.705528, 'IT', 'Europe/Rome'], 620, 625, 'False', 'False'] \n",
      "\n",
      "0 \t 7 \t [['station', 'Milan Lampugnano', 45.48968, 9.127605, 'IT', 'Europe/Rome'], 700, 715, 'False', 'False'] \n",
      "\n",
      "0 \t 8 \t [['station', 'Turin Stura Bus Station', 45.12016, 7.710997, 'IT', 'Europe/Rome'], 810, '', 'False', 'True'] \n",
      "\n",
      "0 \t 9 \t [['station', 'Turin Corso Vittorio Emanuele II', 45.06987, 7.658549, 'IT', 'Europe/Rome'], 835, '', 'False', 'True'] \n",
      "\n",
      "path # 1\n",
      "\n"
     ]
    },
    {
     "ename": "IndexError",
     "evalue": "list index out of range",
     "output_type": "error",
     "traceback": [
      "\u001b[0;31m---------------------------------------------------------------------------\u001b[0m",
      "\u001b[0;31mIndexError\u001b[0m                                Traceback (most recent call last)",
      "Cell \u001b[0;32mIn[36], line 3\u001b[0m\n\u001b[1;32m      1\u001b[0m \u001b[39mfor\u001b[39;00m path_id, path \u001b[39min\u001b[39;00m \u001b[39menumerate\u001b[39m(pathes[\u001b[39m3\u001b[39m][\u001b[39m8\u001b[39m]):\n\u001b[1;32m      2\u001b[0m     \u001b[39mprint\u001b[39m(\u001b[39mf\u001b[39m\u001b[39m'\u001b[39m\u001b[39mpath # \u001b[39m\u001b[39m{\u001b[39;00mpath_id\u001b[39m}\u001b[39;00m\u001b[39m\\n\u001b[39;00m\u001b[39m'\u001b[39m)\n\u001b[0;32m----> 3\u001b[0m     \u001b[39mfor\u001b[39;00m i, route \u001b[39min\u001b[39;00m \u001b[39menumerate\u001b[39m(path[\u001b[39m10\u001b[39;49m][\u001b[39m8\u001b[39m][\u001b[39m1\u001b[39m][\u001b[39m22\u001b[39m]):\n\u001b[1;32m      4\u001b[0m         \u001b[39mprint\u001b[39m(path_id, \u001b[39m'\u001b[39m\u001b[39m\\t\u001b[39;00m\u001b[39m'\u001b[39m, i, \u001b[39m'\u001b[39m\u001b[39m\\t\u001b[39;00m\u001b[39m'\u001b[39m, route, \u001b[39m'\u001b[39m\u001b[39m\\n\u001b[39;00m\u001b[39m'\u001b[39m)\n",
      "\u001b[0;31mIndexError\u001b[0m: list index out of range"
     ]
    }
   ],
   "source": [
    "for path_id, path in enumerate(pathes[3][8]):\n",
    "    print(f'path # {path_id}\\n')\n",
    "    for i, route in enumerate(path[10][8][1][22]):\n",
    "        print(path_id, '\\t', i, '\\t', route, '\\n')"
   ]
  },
  {
   "cell_type": "code",
   "execution_count": null,
   "metadata": {},
   "outputs": [],
   "source": [
    "# unpacking info from the section 9 - local moving inside the city, from city center to airport etc.\n",
    "for path_id, path in enumerate(pathes, start=1):\n",
    "    for i, route in enumerate(path[9]):\n",
    "        for j, way in enumerate(route[2]):\n",
    "            print(path_id, '\\n\\t', i, '\\t', j, '\\t', way, '\\n')"
   ]
  },
  {
   "cell_type": "code",
   "execution_count": 18,
   "metadata": {},
   "outputs": [
    {
     "name": "stdout",
     "output_type": "stream",
     "text": [
      "1 \n",
      "\t 0 \t ['node', 'Naples', 40.85216, 14.26811, 'IT', 'Europe/Rome', 2.5] \n",
      "\n",
      "1 \n",
      "\t 1 \t ['station', 'Napoli - Capodichino Aeroporto', 40.87545, 14.28348, 'IT', 'Europe/Rome'] \n",
      "\n",
      "1 \n",
      "\t 2 \t ['airport', 'Naples (NAP)', 40.87773, 14.28253] \n",
      "\n",
      "1 \n",
      "\t 3 \t ['airport', 'Turin (TRN)', 45.1925, 7.64314] \n",
      "\n",
      "1 \n",
      "\t 4 \t ['station', 'Aeroporto Caselle - Stazione F.T.C.', 45.19151, 7.643194, 'IT', 'Europe/Rome'] \n",
      "\n",
      "1 \n",
      "\t 5 \t ['node', 'Turin', 45.07049, 7.68682, 'IT', 'Europe/Rome', 2.5] \n",
      "\n",
      "2 \n",
      "\t 0 \t ['node', 'Naples', 40.85216, 14.26811, 'IT', 'Europe/Rome', 2.5] \n",
      "\n",
      "2 \n",
      "\t 1 \t ['station', 'Roma Termini', 41.90056, 12.50167, 'IT', 'Europe/Berlin'] \n",
      "\n",
      "2 \n",
      "\t 2 \t ['station', 'Fiumicino Aeroporto', 41.79333, 12.25139, 'IT', 'Europe/Berlin'] \n",
      "\n",
      "2 \n",
      "\t 3 \t ['airport', 'Rome (FCO)', 41.7947, 12.25091] \n",
      "\n",
      "2 \n",
      "\t 4 \t ['airport', 'Turin (TRN)', 45.1925, 7.64314] \n",
      "\n",
      "2 \n",
      "\t 5 \t ['station', 'Aeroporto Caselle - Stazione F.T.C.', 45.19151, 7.643194, 'IT', 'Europe/Rome'] \n",
      "\n",
      "2 \n",
      "\t 6 \t ['node', 'Turin', 45.07049, 7.68682, 'IT', 'Europe/Rome', 2.5] \n",
      "\n",
      "3 \n",
      "\t 0 \t ['station', 'Napoli Centrale', 40.85305, 14.27278, 'IT', 'Europe/Berlin'] \n",
      "\n",
      "3 \n",
      "\t 1 \t ['station', 'Torino Porta Susa', 45.07417, 7.66695, 'IT', 'Europe/Berlin'] \n",
      "\n",
      "4 \n",
      "\t 0 \t ['station', 'Naples', 40.85093, 14.27362, 'IT', 'Europe/Rome'] \n",
      "\n",
      "4 \n",
      "\t 1 \t ['station', 'Turin', 45.06962, 7.659043, 'IT', 'Europe/Rome'] \n",
      "\n",
      "5 \n",
      "\t 0 \t ['station', 'Naples Metropark', 40.85114, 14.27283, 'IT', 'Europe/Rome'] \n",
      "\n",
      "5 \n",
      "\t 1 \t ['station', 'Turin Stura Bus Station', 45.12016, 7.710997, 'IT', 'Europe/Rome'] \n",
      "\n",
      "5 \n",
      "\t 2 \t ['station', 'Fermata 3234 - STAZIONE STURA', 45.121, 7.71197, 'IT', 'Europe/Rome'] \n",
      "\n",
      "5 \n",
      "\t 3 \t ['station', 'Fermata 246 - BERTOLA', 45.06959, 7.68079, 'IT', 'Europe/Rome'] \n",
      "\n",
      "6 \n",
      "\t 0 \t ['station', 'Napoli Centrale', 40.85305, 14.27278, 'IT', 'Europe/Berlin'] \n",
      "\n",
      "6 \n",
      "\t 1 \t ['station', 'Torino Porta Susa', 45.07417, 7.66695, 'IT', 'Europe/Berlin'] \n",
      "\n",
      "7 \n",
      "\t 0 \t ['station', 'Naples', 40.8507, 14.24632, 'IT', 'Europe/Rome'] \n",
      "\n",
      "7 \n",
      "\t 1 \t ['station', 'Turin', 45.07092, 7.68597, 'IT', 'Europe/Rome'] \n",
      "\n",
      "8 \n",
      "\t 0 \t ['node', 'Naples', 40.85216, 14.26811, 'IT', 'Europe/Rome', 2.5] \n",
      "\n",
      "8 \n",
      "\t 1 \t ['node', 'Turin', 45.07049, 7.68682, 'IT', 'Europe/Rome', 2.5] \n",
      "\n"
     ]
    }
   ],
   "source": [
    "# unpacking airports', stations' and nodes' coordinates for each route from pathes from the section 10\n",
    "for path_id, path in enumerate(pathes, start=1):\n",
    "    for i, route in enumerate(path[10]):\n",
    "        print(path_id, '\\n\\t', i, '\\t', route, '\\n')\n"
   ]
  },
  {
   "cell_type": "code",
   "execution_count": 20,
   "metadata": {},
   "outputs": [
    {
     "name": "stdout",
     "output_type": "stream",
     "text": [
      "1 \n",
      "\t 0 \t [['Local', '', '', 'False', 'Schedules', [5, 8, [], 40, [], 'False', -1, -1, -1, 'https://help.rome2rio.com/en/support/solutions/articles/22000239379-are-there-any-age-discounts-for-my-tickets-', 'False', 'False', [], 'False'], 'True', 19]] \n",
      "\n",
      "1 \n",
      "\t 1 \t [[[[0, [[0, [0]]], [-1, []], [-1, []], '']]]] \n",
      "\n",
      "2 \n",
      "\t 0 \t [['Local', '', '', 'False', 'Schedules', [5, 8, [], 40, [], 'False', -1, -1, -1, 'https://help.rome2rio.com/en/support/solutions/articles/22000239379-are-there-any-age-discounts-for-my-tickets-', 'False', 'False', [], 'False'], 'True', 19]] \n",
      "\n",
      "2 \n",
      "\t 1 \t [[[[0, [[0, [0]]], [-1, []], [-1, []], '']]]] \n",
      "\n",
      "3 \n",
      "\t 0 \t [['Omio', 'Book at {0}', 'Omio', 'False', 'Schedules and Book', [23, 8, [[40, 'Adult', 'Adults', ''], [10, 'Child', 'Children', '']], 40, [], 'True', -1, -1, 180, 'https://help.rome2rio.com/en/support/solutions/articles/22000239379-are-there-any-age-discounts-for-my-tickets-', 'False', 'False', [], 'False'], 'False', 1], ['Local', '', '', 'False', 'Schedules', [5, 8, [], 40, [], 'False', -1, -1, -1, 'https://help.rome2rio.com/en/support/solutions/articles/22000239379-are-there-any-age-discounts-for-my-tickets-', 'False', 'False', [], 'False'], 'True', 19], ['OmioEuBus', 'Book at {0}', 'Omio', 'False', 'Schedules and Book', [23, 8, [[40, 'Adult', 'Adults', ''], [10, 'Child', 'Children', '']], 40, [], 'True', -1, -1, 382, 'https://help.rome2rio.com/en/support/solutions/articles/22000239379-are-there-any-age-discounts-for-my-tickets-', 'False', 'False', [], 'False'], 'False', 6], ['Distribusion', 'Book at {0}', 'Distribusion', 'True', 'Schedules and Book', [21, 8, [], 40, [], 'True', -1, -1, -1, 'https://help.rome2rio.com/en/support/solutions/articles/22000239379-are-there-any-age-discounts-for-my-tickets-', 'False', 'False', [], 'False'], 'False', 14], ['FlixBus', 'Book at {0}', 'FlixBus', 'False', 'Schedules and Book', [23, 8, [[40, 'Adult', 'Adults', ''], [10, 'Child', 'Children', '(0-14)']], 40, [], 'True', -1, -1, -1, 'https://help.rome2rio.com/en/support/solutions/articles/22000239379-are-there-any-age-discounts-for-my-tickets-', 'False', 'False', [], 'False'], 'False', 0]] \n",
      "\n",
      "3 \n",
      "\t 1 \t [[[[0, [[0, [0, 1]]], [-1, []], [-1, []], ['/redirects/omio/?oDateTime={oDateTime}&iDateTime={iDateTime}&adults={adults}&seniors={seniors}&youths={youths}&ages={ages}&checkoutExitLabel={checkoutExitLabel}&originId=328519&destinationId=328472&mode=train&lang=en&currency=PLN&requestId=232-20230126-021123-7662422&agencyIds=_SWEDISH_RAILWAYS_(SJ)', 'Omio', 'OmioSRP:train', 'Växjö station', 'Borås Centralstation', ['Omio', 'Local'], 0, 0]]]], [[[2, [[0, [2, 3, 1]], [1, [2, 3, 1]], [2, [2, 4, 1]]], [-1, []], [-1, []], ['/tickets/Borås-Centralstation-(57.72084,12.932)/Landvetter-Airport-(57.66788,12.29594)?oDateTime={oDateTime}&iDateTime={iDateTime}&adults={adults}&seniors={seniors}&youths={youths}&ages={ages}&checkoutExitLabel={checkoutExitLabel}&mode=bus&requestId=232-20230126-021123-7662422', 'Tickets', 'Tickets:bus', 'Borås-Centralstation-(57.72084,12.932)', 'Landvetter-Airport-(57.66788,12.29594)', ['OmioEuBus', 'Distribusion', 'FlixBus'], 0, 0]]]]] \n",
      "\n",
      "4 \n",
      "\t 0 \t [['Omio', 'Book at {0}', 'Omio', 'False', 'Schedules and Book', [23, 8, [[40, 'Adult', 'Adults', ''], [10, 'Child', 'Children', '']], 40, [], 'True', -1, -1, 180, 'https://help.rome2rio.com/en/support/solutions/articles/22000239379-are-there-any-age-discounts-for-my-tickets-', 'False', 'False', [], 'False'], 'False', 1], ['Local', '', '', 'False', 'Schedules', [5, 8, [], 40, [], 'False', -1, -1, -1, 'https://help.rome2rio.com/en/support/solutions/articles/22000239379-are-there-any-age-discounts-for-my-tickets-', 'False', 'False', [], 'False'], 'True', 19]] \n",
      "\n",
      "4 \n",
      "\t 1 \t [[[[0, [[0, [0, 1]], [1, [0, 1]], [2, [0, 1]]], [-1, []], [-1, []], ['/redirects/omio/?oDateTime={oDateTime}&iDateTime={iDateTime}&adults={adults}&seniors={seniors}&youths={youths}&ages={ages}&checkoutExitLabel={checkoutExitLabel}&originId=328519&destinationId=328477&mode=train&lang=en&currency=PLN&requestId=232-20230126-021123-7662422&agencyIds=_ÖRESUNDSTÅG', 'Omio', 'OmioSRP:train', 'Växjö station', 'Emmaboda station', ['Omio', 'Local'], 0, 0]], [1, [[0, [0, 1]]], [-1, []], [-1, []], ['/redirects/omio/?oDateTime={oDateTime}&iDateTime={iDateTime}&adults={adults}&seniors={seniors}&youths={youths}&ages={ages}&checkoutExitLabel={checkoutExitLabel}&originId=328477&destinationId=328890&mode=train&lang=en&currency=PLN&requestId=232-20230126-021123-7662422&agencyIds=_KRÖSATÅGEN', 'Omio', 'OmioSRP:train', 'Emmaboda station', 'Bergåsa station', ['Omio', 'Local'], 0, 0]]]], [[[3, [[0, [1]]], [-1, []], [-1, []], ''], [5, [[0, [1]]], [-1, []], [-1, []], ''], [7, [[0, [1]]], [-1, []], [-1, []], ''], [9, [[0, [1]], [1, [1]], [2, [1]], [3, [1]]], [-1, []], [-1, []], '']]]] \n",
      "\n",
      "5 \n",
      "\t 0 \t [['Local', '', '', 'False', 'Schedules', [5, 8, [], 40, [], 'False', -1, -1, -1, 'https://help.rome2rio.com/en/support/solutions/articles/22000239379-are-there-any-age-discounts-for-my-tickets-', 'False', 'False', [], 'False'], 'True', 19], ['OmioDeutscheBahn', 'Book at {0}', 'Omio', 'False', 'Schedules and Book', [23, 8, [[40, 'Adult', 'Adults', ''], [10, 'Child', 'Children', '']], 40, [], 'True', -1, -1, 182, 'https://help.rome2rio.com/en/support/solutions/articles/22000239379-are-there-any-age-discounts-for-my-tickets-', 'False', 'False', [], 'False'], 'False', 5], ['FlixBus', 'Book at {0}', 'FlixBus', 'False', 'Schedules and Book', [23, 8, [[40, 'Adult', 'Adults', ''], [10, 'Child', 'Children', '(0-14)']], 40, [], 'True', -1, -1, -1, 'https://help.rome2rio.com/en/support/solutions/articles/22000239379-are-there-any-age-discounts-for-my-tickets-', 'False', 'False', [], 'False'], 'False', 0]] \n",
      "\n",
      "5 \n",
      "\t 1 \t [[[[0, [[0, [0]], [1, [0]]], [-1, []], [-1, []], '']]], [[[1, [[0, [1, 0]]], [-1, []], [-1, []], ['/redirects/omio/?oDateTime={oDateTime}&iDateTime={iDateTime}&adults={adults}&seniors={seniors}&youths={youths}&ages={ages}&checkoutExitLabel={checkoutExitLabel}&originId=361592&destinationId=331128&mode=train&lang=en&currency=PLN&requestId=232-20230126-021123-7662422&agencyIds=_DANISH_RAILWAYS_(DSB)', 'Omio', 'OmioSRP:train', 'København H', 'Hamburg Hbf', ['OmioDeutscheBahn', 'Local'], 0, 0]], [2, [[0, [1, 0]], [1, [1, 2, 0]]], [-1, []], [-1, []], ['/tickets/Hamburg-Hbf-(53.55231,10.00704)/Berlin-Hauptbahnhof-(52.52495,13.36965)?oDateTime={oDateTime}&iDateTime={iDateTime}&adults={adults}&seniors={seniors}&youths={youths}&ages={ages}&checkoutExitLabel={checkoutExitLabel}&mode=train&requestId=232-20230126-021123-7662422', 'Tickets', 'Tickets:train', 'Hamburg-Hbf-(53.55231,10.00704)', 'Berlin-Hauptbahnhof-(52.52495,13.36965)', ['OmioDeutscheBahn', 'FlixBus'], 0, 0]], [3, [[0, [1, 0]], [1, [1, 0]], [2, [1, 0]], [3, [1, 0]]], [-1, []], [-1, []], ['/redirects/omio/?oDateTime={oDateTime}&iDateTime={iDateTime}&adults={adults}&seniors={seniors}&youths={youths}&ages={ages}&checkoutExitLabel={checkoutExitLabel}&originId=334196&destinationId=334167&mode=train&lang=en&currency=PLN&requestId=232-20230126-021123-7662422&agencyIds=_DEUTSCHE_BAHN_REGIONAL_201908031415', 'Omio', 'OmioSRP:train', 'Berlin Hauptbahnhof', 'S+U Gesundbrunnen Bhf', ['OmioDeutscheBahn', 'Local'], 0, 0]], [4, [[0, [1, 0]]], [-1, []], [-1, []], ['/redirects/omio/?oDateTime={oDateTime}&iDateTime={iDateTime}&adults={adults}&seniors={seniors}&youths={youths}&ages={ages}&checkoutExitLabel={checkoutExitLabel}&originId=334167&destinationId=320818&mode=train&lang=en&currency=PLN&requestId=232-20230126-021123-7662422&agencyIds=_DEUTSCHE_BAHN_REGIONAL_201908031415', 'Omio', 'OmioSRP:train', 'S+U Gesundbrunnen Bhf', 'Szczecin Glowny', ['OmioDeutscheBahn', 'Local'], 0, 0]]]], [[[5, [[0, [0]]], [-1, []], [-1, []], '']]]] \n",
      "\n",
      "6 \n",
      "\t 0 \t [['Local', '', '', 'False', 'Schedules', [5, 8, [], 40, [], 'False', -1, -1, -1, 'https://help.rome2rio.com/en/support/solutions/articles/22000239379-are-there-any-age-discounts-for-my-tickets-', 'False', 'False', [], 'False'], 'True', 19], ['OmioEuBus', 'Book at {0}', 'Omio', 'False', 'Schedules and Book', [23, 8, [[40, 'Adult', 'Adults', ''], [10, 'Child', 'Children', '']], 40, [], 'True', -1, -1, 382, 'https://help.rome2rio.com/en/support/solutions/articles/22000239379-are-there-any-age-discounts-for-my-tickets-', 'False', 'False', [], 'False'], 'False', 6], ['FlixBus', 'Book at {0}', 'FlixBus', 'False', 'Schedules and Book', [23, 8, [[40, 'Adult', 'Adults', ''], [10, 'Child', 'Children', '(0-14)']], 40, [], 'True', -1, -1, -1, 'https://help.rome2rio.com/en/support/solutions/articles/22000239379-are-there-any-age-discounts-for-my-tickets-', 'False', 'False', [], 'False'], 'False', 0], ['Distribusion', 'Book at {0}', 'Distribusion', 'True', 'Schedules and Book', [21, 8, [], 40, [], 'True', -1, -1, -1, 'https://help.rome2rio.com/en/support/solutions/articles/22000239379-are-there-any-age-discounts-for-my-tickets-', 'False', 'False', [], 'False'], 'False', 14]] \n",
      "\n",
      "6 \n",
      "\t 1 \t [[[[0, [[0, [0]]], [-1, []], [-1, []], '']]], [[[2, [[0, [1, 2, 0]]], [-1, []], [-1, []], ['/tickets/Ljungby-(56.83194,13.93734)/Helsingborg-(56.04427,12.69453)?oDateTime={oDateTime}&iDateTime={iDateTime}&adults={adults}&seniors={seniors}&youths={youths}&ages={ages}&checkoutExitLabel={checkoutExitLabel}&mode=bus&requestId=232-20230126-021123-7662422', 'Tickets', 'Tickets:bus', 'Ljungby-(56.83194,13.93734)', 'Helsingborg-(56.04427,12.69453)', ['OmioEuBus', 'FlixBus'], 0, 0]]]], [[[4, [[0, [1, 3]]], [-1, []], [-1, []], ['/redirects/omio/?oDateTime={oDateTime}&iDateTime={iDateTime}&adults={adults}&seniors={seniors}&youths={youths}&ages={ages}&checkoutExitLabel={checkoutExitLabel}&originId=406000&destinationId=398223&mode=bus&lang=en&currency=PLN&requestId=232-20230126-021123-7662422&agencyIds=_SINDBAD', 'Omio', 'OmioSRP:bus', 'Helsingbourg', 'Gdańsk', ['OmioEuBus', 'Distribusion'], 0, 0]]]]] \n",
      "\n",
      "7 \n",
      "\t 0 \t [['Local', '', '', 'False', 'Schedules', [5, 8, [], 40, [], 'False', -1, -1, -1, 'https://help.rome2rio.com/en/support/solutions/articles/22000239379-are-there-any-age-discounts-for-my-tickets-', 'False', 'False', [], 'False'], 'True', 19]] \n",
      "\n",
      "7 \n",
      "\t 1 \t [[[[1, [[0, [0]]], [-1, []], [-1, []], '']]]] \n",
      "\n"
     ]
    }
   ],
   "source": [
    "# unpacking accomodation info for each route from pathes from the section 15\n",
    "for path_id, path in enumerate(pathes, start=1):\n",
    "    for i, route in enumerate(path[15]):\n",
    "        print(path_id, '\\n\\t', i, '\\t', route, '\\n')"
   ]
  },
  {
   "cell_type": "code",
   "execution_count": 21,
   "metadata": {},
   "outputs": [
    {
     "name": "stdout",
     "output_type": "stream",
     "text": [
      "1 \n",
      "\t [[83, 'PLN', 82.65, 'False', ''], [233, 'PLN', 232.6, 'False', ''], [729, 'PLN', 729.49, 'False', '']] \n",
      "\n",
      "2 \n",
      "\t [[230, 'PLN', 230.09, 'False', ''], [485, 'PLN', 485.4, 'False', ''], [1023, 'PLN', 1022.75, 'False', '']] \n",
      "\n",
      "3 \n",
      "\t [[189, 'PLN', 189.38, 'False', ''], [318, 'PLN', 317.52, 'False', ''], [1123, 'PLN', 1122.77, 'False', '']] \n",
      "\n",
      "4 \n",
      "\t [['', '', ''], ['', '', ''], ['', '', '']] \n",
      "\n",
      "5 \n",
      "\t [[437, 'PLN', 436.88, 'False', ''], [886, 'PLN', 885.83, 'False', ''], [1134, 'PLN', 1134.08, 'False', '']] \n",
      "\n",
      "6 \n",
      "\t [[236, 'PLN', 236.43, 'False', ''], [276, 'PLN', 276.27, 'False', ''], [331, 'PLN', 330.96, 'False', '']] \n",
      "\n",
      "7 \n",
      "\t [[422, 'PLN', 422.43, 'False', ''], [759, 'PLN', 758.52, 'False', ''], [1205, 'PLN', 1204.62, 'False', '']] \n",
      "\n"
     ]
    }
   ],
   "source": [
    "# unpacking the prices (min, mid, max) of the path from the section 20\n",
    "for path_id, path in enumerate(pathes, start=1):\n",
    "    print(path_id, '\\n\\t', path[20], '\\n')"
   ]
  },
  {
   "cell_type": "code",
   "execution_count": 22,
   "metadata": {},
   "outputs": [
    {
     "name": "stdout",
     "output_type": "stream",
     "text": [
      "1 \n",
      "\t 0 \t [83, 'PLN', 82.65, 'False', ''] \n",
      "\n",
      "1 \n",
      "\t 1 \t [233, 'PLN', 232.6, 'False', ''] \n",
      "\n",
      "1 \n",
      "\t 2 \t [729, 'PLN', 729.49, 'False', ''] \n",
      "\n",
      "2 \n",
      "\t 0 \t [230, 'PLN', 230.09, 'False', ''] \n",
      "\n",
      "2 \n",
      "\t 1 \t [485, 'PLN', 485.4, 'False', ''] \n",
      "\n",
      "2 \n",
      "\t 2 \t [1023, 'PLN', 1022.75, 'False', ''] \n",
      "\n",
      "3 \n",
      "\t 0 \t [189, 'PLN', 189.38, 'False', ''] \n",
      "\n",
      "3 \n",
      "\t 1 \t [318, 'PLN', 317.52, 'False', ''] \n",
      "\n",
      "3 \n",
      "\t 2 \t [1123, 'PLN', 1122.77, 'False', ''] \n",
      "\n",
      "4 \n",
      "\t 0 \t ['', '', ''] \n",
      "\n",
      "4 \n",
      "\t 1 \t ['', '', ''] \n",
      "\n",
      "4 \n",
      "\t 2 \t ['', '', ''] \n",
      "\n",
      "5 \n",
      "\t 0 \t [437, 'PLN', 436.88, 'False', ''] \n",
      "\n",
      "5 \n",
      "\t 1 \t [886, 'PLN', 885.83, 'False', ''] \n",
      "\n",
      "5 \n",
      "\t 2 \t [1134, 'PLN', 1134.08, 'False', ''] \n",
      "\n",
      "6 \n",
      "\t 0 \t [236, 'PLN', 236.43, 'False', ''] \n",
      "\n",
      "6 \n",
      "\t 1 \t [276, 'PLN', 276.27, 'False', ''] \n",
      "\n",
      "6 \n",
      "\t 2 \t [331, 'PLN', 330.96, 'False', ''] \n",
      "\n",
      "7 \n",
      "\t 0 \t [422, 'PLN', 422.43, 'False', ''] \n",
      "\n",
      "7 \n",
      "\t 1 \t [759, 'PLN', 758.52, 'False', ''] \n",
      "\n",
      "7 \n",
      "\t 2 \t [1205, 'PLN', 1204.62, 'False', ''] \n",
      "\n"
     ]
    }
   ],
   "source": [
    "# unpacking the prices (min, mid, max) for each route of the path from the section 20\n",
    "for path_id, path in enumerate(pathes, start=1):\n",
    "    for i, route in enumerate(path[20]):\n",
    "        print(path_id, '\\n\\t', i, '\\t', route, '\\n')"
   ]
  }
 ],
 "metadata": {
  "kernelspec": {
   "display_name": ".ctenv",
   "language": "python",
   "name": "python3"
  },
  "language_info": {
   "codemirror_mode": {
    "name": "ipython",
    "version": 3
   },
   "file_extension": ".py",
   "mimetype": "text/x-python",
   "name": "python",
   "nbconvert_exporter": "python",
   "pygments_lexer": "ipython3",
   "version": "3.10.6"
  },
  "orig_nbformat": 4,
  "vscode": {
   "interpreter": {
    "hash": "f7643fb6a4bd21ef3a7aa79155d00d8e407207f3a84287bcb7e146fa4cece91a"
   }
  }
 },
 "nbformat": 4,
 "nbformat_minor": 2
}
