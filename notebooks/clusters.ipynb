{
 "cells": [
  {
   "cell_type": "code",
   "execution_count": 30,
   "metadata": {},
   "outputs": [
    {
     "name": "stdout",
     "output_type": "stream",
     "text": [
      "Cluster 0\n",
      "\tprice range: 13 - 453\n",
      "\tduration range: 120 - 700\n",
      "\tdistance range: 1810 - 8787\n",
      "\tnumber of values: 2220, Q1 = 41.00, median = 62.0, Q3 = 94.00\n",
      "\tLower bound = -38.50, Upper bound = 173.50\n",
      "\tOutlier prices: 88: [47, 62, 255, 307, 308, 346, 409, 430, 457, 692, 738, 794, 875, 1293, 1492, 1502, 1525, 1815, 1895, 1899, 1952, 2192, 2193, 2194, 2529, 2600, 2685, 2732, 2851, 2853, 2885, 2929, 2980, 3060, 3098, 3126, 3134, 3162, 3438, 3601, 3794, 3796, 3840, 3905, 4084, 4124, 4192, 4272, 4577, 4631, 4670, 4833, 4866, 4897, 4917, 4942, 5058, 5164, 5215, 5295, 5304, 5312, 5461, 5497, 5642, 5672, 5688, 5770, 5796, 5847, 5959, 6005, 6117, 6174, 6207, 6219, 6273, 6377, 6665, 6703, 6792, 6826, 6871, 6887, 6943, 7030, 7067, 7193]\n",
      "\n",
      "Cluster 1\n",
      "\tprice range: 6 - 260\n",
      "\tduration range: 30 - 205\n",
      "\tdistance range: 61 - 1810\n",
      "\tnumber of values: 5048, Q1 = 30.00, median = 45.0, Q3 = 69.00\n",
      "\tLower bound = -28.50, Upper bound = 127.50\n",
      "\tOutlier prices: 84: [100, 298, 498, 674, 729, 820, 872, 1162, 1176, 1367, 1370, 1438, 1516, 1661, 1773, 1778, 1797, 1958, 2016, 2093, 2169, 2190, 2206, 2257, 2260, 2315, 2319, 2322, 2406, 2555, 2575, 2586, 2665, 2699, 2724, 2753, 2800, 3125, 3394, 3651, 3675, 3759, 3793, 3978, 4145, 4427, 4435, 4526, 4546, 4562, 4586, 4643, 4755, 4785, 5069, 5171, 5174, 5340, 5513, 5526, 5530, 5558, 5626, 5643, 5851, 6013, 6087, 6152, 6232, 6342, 6485, 6494, 6505, 6596, 6601, 6672, 6796, 6841, 6869, 6888, 6898, 6989, 7002, 7131]\n",
      "\n"
     ]
    }
   ],
   "source": [
    "import pandas as pd\n",
    "from sklearn.cluster import KMeans\n",
    "import matplotlib.pyplot as plt\n",
    "\n",
    "# загрузка данных\n",
    "data = pd.read_csv(\"flights.csv\", index_col=0)\n",
    "\n",
    "# выбор параметров для кластеризации\n",
    "X = data[['duration', 'distance', 'price']]\n",
    "\n",
    "# кластеризация данных\n",
    "number_of_clusters = 2\n",
    "kmeans = KMeans(n_clusters=number_of_clusters, random_state=0, n_init='auto').fit(X)\n",
    "\n",
    "# добавление меток кластеров в исходный датасет\n",
    "data['cluster'] = kmeans.labels_\n",
    "\n",
    "# анализ несоответствий цен в каждом кластере\n",
    "for i in range(number_of_clusters):\n",
    "    cluster = data[data['cluster']==i]\n",
    "    min_cluster_duration = cluster['duration'].min()\n",
    "    max_cluster_duration = cluster['duration'].max()\n",
    "    min_cluster_distance = cluster['distance'].min()\n",
    "    max_cluster_distance = cluster['distance'].max()\n",
    "    min_cluster_price = cluster['price'].min()\n",
    "    max_cluster_price = cluster['price'].max()\n",
    "    number_of_values = cluster.shape[0]\n",
    "    median = cluster['price'].median()\n",
    "    std_price = cluster['price'].std()    \n",
    "    Q1 = cluster['price'].quantile(0.25)\n",
    "    Q3 = cluster['price'].quantile(0.75)\n",
    "    IQR = Q3 - Q1\n",
    "    lower_bound = Q1 - 1.5 * IQR\n",
    "    upper_bound = Q3 + 1.5 * IQR\n",
    "    \n",
    "    outlier_prices = cluster[(cluster['price']<lower_bound) | (cluster['price']>upper_bound)]\n",
    "    \n",
    "    print(f\"Cluster {i}\")\n",
    "    print(f\"\\tprice range: {min_cluster_price} - {max_cluster_price}\")\n",
    "    print(f\"\\tduration range: {min_cluster_duration} - {max_cluster_duration}\")\n",
    "    print(f\"\\tdistance range: {min_cluster_distance} - {max_cluster_distance}\")\n",
    "    print(f\"\\tnumber of values: {number_of_values}, Q1 = {Q1:.2f}, median = {median}, Q3 = {Q3:.2f}\")\n",
    "    print(f\"\\tLower bound = {lower_bound:.2f}, Upper bound = {upper_bound:.2f}\")\n",
    "    print(f\"\\tOutlier prices: {outlier_prices.shape[0]}: {[index for index in outlier_prices.index]}\\n\")\n",
    "    \n"
   ]
  }
 ],
 "metadata": {
  "kernelspec": {
   "display_name": ".ctenv",
   "language": "python",
   "name": "python3"
  },
  "language_info": {
   "codemirror_mode": {
    "name": "ipython",
    "version": 3
   },
   "file_extension": ".py",
   "mimetype": "text/x-python",
   "name": "python",
   "nbconvert_exporter": "python",
   "pygments_lexer": "ipython3",
   "version": "3.10.6"
  },
  "orig_nbformat": 4,
  "vscode": {
   "interpreter": {
    "hash": "c3f7be89f86d62a976a95081a758c425dc75ed91bec78d027fa107c71f465ec4"
   }
  }
 },
 "nbformat": 4,
 "nbformat_minor": 2
}
