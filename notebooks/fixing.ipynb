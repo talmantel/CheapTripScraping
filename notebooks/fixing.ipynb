{
 "cells": [
  {
   "cell_type": "code",
   "execution_count": 24,
   "metadata": {},
   "outputs": [],
   "source": [
    "import pandas as pd\n",
    "from pathlib import Path"
   ]
  },
  {
   "cell_type": "code",
   "execution_count": 25,
   "metadata": {},
   "outputs": [],
   "source": [
    "SOURCE_DIR = Path('../files/output/csv_output/treat_runs/')\n",
    "SOURCE_CSV = Path(SOURCE_DIR/'treat3run_filt.csv')\n",
    "VALIDATED_ID_CSV = Path(SOURCE_DIR/'fixed_ids.csv')\n",
    "INPUT_CSV = Path(SOURCE_DIR/'routes_to_fix.csv')\n",
    "OUTPUT_CSV = Path(SOURCE_DIR/'all_direct_valid_routes.csv')\n",
    "OUTPUT_CSV_2 = Path('../output/csv_output/all_direct_valid_routes.csv')"
   ]
  },
  {
   "cell_type": "code",
   "execution_count": 26,
   "metadata": {},
   "outputs": [],
   "source": [
    "if not OUTPUT_CSV.is_file():\n",
    "    df_source = pd.read_csv(SOURCE_CSV, index_col='path_id')\n",
    "    df_source.to_csv(OUTPUT_CSV)\n",
    "df_output = pd.read_csv(OUTPUT_CSV, index_col='path_id')\n",
    "df_output_2 = pd.read_csv(OUTPUT_CSV_2, index_col='path_id')"
   ]
  },
  {
   "cell_type": "code",
   "execution_count": 27,
   "metadata": {},
   "outputs": [
    {
     "data": {
      "text/html": [
       "<div>\n",
       "<style scoped>\n",
       "    .dataframe tbody tr th:only-of-type {\n",
       "        vertical-align: middle;\n",
       "    }\n",
       "\n",
       "    .dataframe tbody tr th {\n",
       "        vertical-align: top;\n",
       "    }\n",
       "\n",
       "    .dataframe thead th {\n",
       "        text-align: right;\n",
       "    }\n",
       "</style>\n",
       "<table border=\"1\" class=\"dataframe\">\n",
       "  <thead>\n",
       "    <tr style=\"text-align: right;\">\n",
       "      <th></th>\n",
       "      <th>from_id</th>\n",
       "      <th>to_id</th>\n",
       "      <th>transport_id</th>\n",
       "      <th>price_min_EUR</th>\n",
       "    </tr>\n",
       "  </thead>\n",
       "  <tbody>\n",
       "    <tr>\n",
       "      <th>0</th>\n",
       "      <td>336</td>\n",
       "      <td>52</td>\n",
       "      <td>3</td>\n",
       "      <td>6</td>\n",
       "    </tr>\n",
       "    <tr>\n",
       "      <th>1</th>\n",
       "      <td>336</td>\n",
       "      <td>52</td>\n",
       "      <td>2</td>\n",
       "      <td>4</td>\n",
       "    </tr>\n",
       "    <tr>\n",
       "      <th>2</th>\n",
       "      <td>336</td>\n",
       "      <td>171</td>\n",
       "      <td>2</td>\n",
       "      <td>15</td>\n",
       "    </tr>\n",
       "    <tr>\n",
       "      <th>3</th>\n",
       "      <td>52</td>\n",
       "      <td>171</td>\n",
       "      <td>2</td>\n",
       "      <td>18</td>\n",
       "    </tr>\n",
       "  </tbody>\n",
       "</table>\n",
       "</div>"
      ],
      "text/plain": [
       "   from_id  to_id  transport_id  price_min_EUR\n",
       "0      336     52             3              6\n",
       "1      336     52             2              4\n",
       "2      336    171             2             15\n",
       "3       52    171             2             18"
      ]
     },
     "execution_count": 27,
     "metadata": {},
     "output_type": "execute_result"
    }
   ],
   "source": [
    "df_input = pd.read_csv(INPUT_CSV, usecols=['from_id', 'to_id', 'transport_id', 'price_min_EUR'])\n",
    "df_input"
   ]
  },
  {
   "cell_type": "code",
   "execution_count": 28,
   "metadata": {},
   "outputs": [],
   "source": [
    "if not VALIDATED_ID_CSV.is_file():\n",
    "    with open(VALIDATED_ID_CSV, 'w') as val_file:\n",
    "        val_file.write('path_id')\n",
    "df_validated = pd.read_csv(VALIDATED_ID_CSV, index_col=None)"
   ]
  },
  {
   "cell_type": "code",
   "execution_count": 29,
   "metadata": {},
   "outputs": [
    {
     "data": {
      "text/plain": [
       "((336, 52, 3, 6), (336, 52, 2, 4), (336, 171, 2, 15), (52, 171, 2, 18))"
      ]
     },
     "execution_count": 29,
     "metadata": {},
     "output_type": "execute_result"
    }
   ],
   "source": [
    "valid_trips = tuple(zip(df_input['from_id'], df_input['to_id'], df_input['transport_id'], df_input['price_min_EUR']))\n",
    "valid_trips"
   ]
  },
  {
   "cell_type": "code",
   "execution_count": 30,
   "metadata": {},
   "outputs": [],
   "source": [
    "\n",
    "for valid_trip in valid_trips:\n",
    "    # forward\n",
    "    forward_query = 'from_id == @valid_trip[0] and to_id == @valid_trip[1] and transport_id == @valid_trip[2]'\n",
    "    match_index = df_output.query(forward_query).index\n",
    "    if match_index not in list(df_validated['path_id']):\n",
    "        df_output.at[match_index, 'price_min_EUR'] = valid_trip[3]\n",
    "        df_validated.at[len(df_validated.index)] = match_index\n",
    "    \n",
    "    # backward\n",
    "    backward_query = 'from_id == @valid_trip[1] and to_id == @valid_trip[0] and transport_id == @valid_trip[2]'\n",
    "    match_index = df_output.query(backward_query).index\n",
    "    if match_index not in list(df_validated['path_id']):\n",
    "        df_output.at[match_index, 'price_min_EUR'] = valid_trip[3]\n",
    "        df_validated.at[len(df_validated.index)] = match_index\n",
    "  "
   ]
  },
  {
   "cell_type": "code",
   "execution_count": 31,
   "metadata": {},
   "outputs": [],
   "source": [
    "df_output.to_csv(OUTPUT_CSV)\n",
    "df_validated.to_csv(VALIDATED_ID_CSV, index=None)"
   ]
  }
 ],
 "metadata": {
  "kernelspec": {
   "display_name": ".ctenv",
   "language": "python",
   "name": "python3"
  },
  "language_info": {
   "codemirror_mode": {
    "name": "ipython",
    "version": 3
   },
   "file_extension": ".py",
   "mimetype": "text/x-python",
   "name": "python",
   "nbconvert_exporter": "python",
   "pygments_lexer": "ipython3",
   "version": "3.10.6"
  },
  "orig_nbformat": 4,
  "vscode": {
   "interpreter": {
    "hash": "c3f7be89f86d62a976a95081a758c425dc75ed91bec78d027fa107c71f465ec4"
   }
  }
 },
 "nbformat": 4,
 "nbformat_minor": 2
}
